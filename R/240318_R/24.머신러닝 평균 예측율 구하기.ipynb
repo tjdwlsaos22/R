{
 "cells": [
  {
   "cell_type": "code",
   "execution_count": 1,
   "metadata": {
    "vscode": {
     "languageId": "r"
    }
   },
   "outputs": [
    {
     "data": {
      "text/html": [
       "'ko_KR.UTF-8/ko_KR.UTF-8/ko_KR.UTF-8/C/ko_KR.UTF-8/C'"
      ],
      "text/latex": [
       "'ko\\_KR.UTF-8/ko\\_KR.UTF-8/ko\\_KR.UTF-8/C/ko\\_KR.UTF-8/C'"
      ],
      "text/markdown": [
       "'ko_KR.UTF-8/ko_KR.UTF-8/ko_KR.UTF-8/C/ko_KR.UTF-8/C'"
      ],
      "text/plain": [
       "[1] \"ko_KR.UTF-8/ko_KR.UTF-8/ko_KR.UTF-8/C/ko_KR.UTF-8/C\""
      ]
     },
     "metadata": {},
     "output_type": "display_data"
    }
   ],
   "source": [
    "options(warn = -1)\n",
    "options(repr.plot.width=15, repr.plot.height=9) \n",
    "Sys.setlocale(category = \"LC_ALL\", locale = \"ko_KR.UTF-8\")"
   ]
  },
  {
   "cell_type": "markdown",
   "metadata": {},
   "source": []
  },
  {
   "cell_type": "code",
   "execution_count": 31,
   "metadata": {
    "vscode": {
     "languageId": "r"
    }
   },
   "outputs": [
    {
     "name": "stdout",
     "output_type": "stream",
     "text": [
      "------------------------- \n",
      "예측률 \n"
     ]
    },
    {
     "name": "stdout",
     "output_type": "stream",
     "text": [
      "0.9777778 0.9333333 0.9555556 0.9555556 0.9777778 \n",
      "----------------------------- \n",
      "평균 예측률 :  0.96 \n",
      "-----------------------------------"
     ]
    }
   ],
   "source": [
    "#iris 데이터를 randomForest로 예측율 구하기\n",
    "library(randomForest)\n",
    "library(caret)\n",
    "rfFun <- function(){\n",
    "    samp <- createDataPartition(iris$Species,p=0.7,list=F)\n",
    "    data.tr <- iris[samp,]\n",
    "    data.test <- iris[-samp,]\n",
    "    x <- subset(data.test,select = -Species)\n",
    "    y <- data.test$Species\n",
    "\n",
    "    model <- randomForest(Species~.,data=data.tr,ntree = 100)\n",
    "\n",
    "    pred <- predict(model, x)\n",
    "\n",
    "    accuracy <- mean(pred == y)\n",
    "\n",
    "    return(list(prediction = pred, accuracy = accuracy))\n",
    "\n",
    "\n",
    "}\n",
    "accu <- numeric(5)\n",
    "cat(\"-------------------------\",\"\\n\")\n",
    "cat(\"예측률\",\"\\n\")\n",
    "for (i in 1:5) {\n",
    "  result <- rfFun()\n",
    "  accu[i] <- result$accuracy\n",
    "  cat(result$accuracy,\"\")\n",
    "}\n",
    "cat(\"\\n\")\n",
    "cat(\"-----------------------------\",\"\\n\")\n",
    "mean_accu <- mean(accu)\n",
    "cat(\"평균 예측률 : \",mean_accu,\"\\n\")\n",
    "cat(\"-----------------------------------\")"
   ]
  },
  {
   "cell_type": "code",
   "execution_count": null,
   "metadata": {
    "vscode": {
     "languageId": "r"
    }
   },
   "outputs": [],
   "source": []
  }
 ],
 "metadata": {
  "kernelspec": {
   "display_name": "R",
   "language": "R",
   "name": "r"
  },
  "language_info": {
   "codemirror_mode": "r",
   "file_extension": ".r",
   "mimetype": "text/x-r-source",
   "name": "R",
   "pygments_lexer": "r",
   "version": "4.3.3"
  }
 },
 "nbformat": 4,
 "nbformat_minor": 2
}
