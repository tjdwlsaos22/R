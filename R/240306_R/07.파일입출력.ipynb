{
 "cells": [
  {
   "cell_type": "code",
   "execution_count": 11,
   "metadata": {
    "vscode": {
     "languageId": "r"
    }
   },
   "outputs": [
    {
     "name": "stderr",
     "output_type": "stream",
     "text": [
      "Your code contains a unicode char which cannot be displayed in your\n",
      "current locale and R will silently convert it to an escaped form when the\n",
      "R kernel executes this code. This can lead to subtle errors if you use\n",
      "such chars to do comparisons. For more information, please see\n",
      "https://github.com/IRkernel/repr/wiki/Problems-with-unicode-on-windows"
     ]
    },
    {
     "data": {
      "text/html": [
       "<table>\n",
       "<thead><tr><th scope=col>X.U.BC88..U.D638.</th><th scope=col>X.U.C81C..U.D488.</th><th scope=col>X.U.AE08..U.C561.</th><th scope=col>X.U.C218..U.B7C9.</th></tr></thead>\n",
       "<tbody>\n",
       "\t<tr><td>1     </td><td>Apple </td><td>500   </td><td>5     </td></tr>\n",
       "\t<tr><td>2     </td><td>Banana</td><td>200   </td><td>4     </td></tr>\n",
       "\t<tr><td>3     </td><td>Peach </td><td>200   </td><td>3     </td></tr>\n",
       "\t<tr><td>4     </td><td>Berry </td><td> 50   </td><td>2     </td></tr>\n",
       "</tbody>\n",
       "</table>\n"
      ],
      "text/latex": [
       "\\begin{tabular}{r|llll}\n",
       " X.U.BC88..U.D638. & X.U.C81C..U.D488. & X.U.AE08..U.C561. & X.U.C218..U.B7C9.\\\\\n",
       "\\hline\n",
       "\t 1      & Apple  & 500    & 5     \\\\\n",
       "\t 2      & Banana & 200    & 4     \\\\\n",
       "\t 3      & Peach  & 200    & 3     \\\\\n",
       "\t 4      & Berry  &  50    & 2     \\\\\n",
       "\\end{tabular}\n"
      ],
      "text/markdown": [
       "\n",
       "| X.U.BC88..U.D638. | X.U.C81C..U.D488. | X.U.AE08..U.C561. | X.U.C218..U.B7C9. |\n",
       "|---|---|---|---|\n",
       "| 1      | Apple  | 500    | 5      |\n",
       "| 2      | Banana | 200    | 4      |\n",
       "| 3      | Peach  | 200    | 3      |\n",
       "| 4      | Berry  |  50    | 2      |\n",
       "\n"
      ],
      "text/plain": [
       "  X.U.BC88..U.D638. X.U.C81C..U.D488. X.U.AE08..U.C561. X.U.C218..U.B7C9.\n",
       "1 1                 Apple             500               5                \n",
       "2 2                 Banana            200               4                \n",
       "3 3                 Peach             200               3                \n",
       "4 4                 Berry              50               2                "
      ]
     },
     "metadata": {},
     "output_type": "display_data"
    },
    {
     "data": {
      "text/html": [
       "<ol class=list-inline>\n",
       "\t<li>'df'</li>\n",
       "\t<li>'fruit'</li>\n",
       "\t<li>'name'</li>\n",
       "\t<li>'no'</li>\n",
       "\t<li>'price'</li>\n",
       "\t<li>'qty'</li>\n",
       "</ol>\n"
      ],
      "text/latex": [
       "\\begin{enumerate*}\n",
       "\\item 'df'\n",
       "\\item 'fruit'\n",
       "\\item 'name'\n",
       "\\item 'no'\n",
       "\\item 'price'\n",
       "\\item 'qty'\n",
       "\\end{enumerate*}\n"
      ],
      "text/markdown": [
       "1. 'df'\n",
       "2. 'fruit'\n",
       "3. 'name'\n",
       "4. 'no'\n",
       "5. 'price'\n",
       "6. 'qty'\n",
       "\n",
       "\n"
      ],
      "text/plain": [
       "[1] \"df\"    \"fruit\" \"name\"  \"no\"    \"price\" \"qty\"  "
      ]
     },
     "metadata": {},
     "output_type": "display_data"
    }
   ],
   "source": [
    "no <- 1:4\n",
    "name <- c(\"Apple\",\"Banana\",\"Peach\",\"Berry\")\n",
    "price <- c(500,200,200,50)\n",
    "qty <- c(5,4,3,2)\n",
    "fruit <- data.frame(\"번호\" = no, \"제품\" = name, \"금액\" = price, \"수량\" = qty)\n",
    "fruit\n",
    "\n",
    "ls()"
   ]
  },
  {
   "cell_type": "code",
   "execution_count": 15,
   "metadata": {
    "vscode": {
     "languageId": "r"
    }
   },
   "outputs": [
    {
     "name": "stderr",
     "output_type": "stream",
     "text": [
      "Your code contains a unicode char which cannot be displayed in your\n",
      "current locale and R will silently convert it to an escaped form when the\n",
      "R kernel executes this code. This can lead to subtle errors if you use\n",
      "such chars to do comparisons. For more information, please see\n",
      "https://github.com/IRkernel/repr/wiki/Problems-with-unicode-on-windows"
     ]
    }
   ],
   "source": [
    "#메모리 형태로 파일 보관\n",
    "save(no,fruit,name,file=\"./Data/testFruit.csv\")"
   ]
  },
  {
   "cell_type": "code",
   "execution_count": 21,
   "metadata": {
    "vscode": {
     "languageId": "r"
    }
   },
   "outputs": [
    {
     "data": {
      "text/html": [
       "<ol class=list-inline>\n",
       "\t<li>'df'</li>\n",
       "\t<li>'price'</li>\n",
       "\t<li>'qty'</li>\n",
       "</ol>\n"
      ],
      "text/latex": [
       "\\begin{enumerate*}\n",
       "\\item 'df'\n",
       "\\item 'price'\n",
       "\\item 'qty'\n",
       "\\end{enumerate*}\n"
      ],
      "text/markdown": [
       "1. 'df'\n",
       "2. 'price'\n",
       "3. 'qty'\n",
       "\n",
       "\n"
      ],
      "text/plain": [
       "[1] \"df\"    \"price\" \"qty\"  "
      ]
     },
     "metadata": {},
     "output_type": "display_data"
    }
   ],
   "source": [
    "rm(no,fruit,name)\n",
    "ls()"
   ]
  },
  {
   "cell_type": "code",
   "execution_count": 22,
   "metadata": {
    "vscode": {
     "languageId": "r"
    }
   },
   "outputs": [],
   "source": [
    "load(\"./Data/testFruit.hwp\")"
   ]
  },
  {
   "cell_type": "code",
   "execution_count": 23,
   "metadata": {
    "vscode": {
     "languageId": "r"
    }
   },
   "outputs": [
    {
     "data": {
      "text/html": [
       "<table>\n",
       "<thead><tr><th scope=col>X.U.BC88..U.D638.</th><th scope=col>X.U.C81C..U.D488.</th><th scope=col>X.U.AE08..U.C561.</th><th scope=col>X.U.C218..U.B7C9.</th></tr></thead>\n",
       "<tbody>\n",
       "\t<tr><td>1     </td><td>Apple </td><td>500   </td><td>5     </td></tr>\n",
       "\t<tr><td>2     </td><td>Banana</td><td>200   </td><td>4     </td></tr>\n",
       "\t<tr><td>3     </td><td>Peach </td><td>200   </td><td>3     </td></tr>\n",
       "\t<tr><td>4     </td><td>Berry </td><td> 50   </td><td>2     </td></tr>\n",
       "</tbody>\n",
       "</table>\n"
      ],
      "text/latex": [
       "\\begin{tabular}{r|llll}\n",
       " X.U.BC88..U.D638. & X.U.C81C..U.D488. & X.U.AE08..U.C561. & X.U.C218..U.B7C9.\\\\\n",
       "\\hline\n",
       "\t 1      & Apple  & 500    & 5     \\\\\n",
       "\t 2      & Banana & 200    & 4     \\\\\n",
       "\t 3      & Peach  & 200    & 3     \\\\\n",
       "\t 4      & Berry  &  50    & 2     \\\\\n",
       "\\end{tabular}\n"
      ],
      "text/markdown": [
       "\n",
       "| X.U.BC88..U.D638. | X.U.C81C..U.D488. | X.U.AE08..U.C561. | X.U.C218..U.B7C9. |\n",
       "|---|---|---|---|\n",
       "| 1      | Apple  | 500    | 5      |\n",
       "| 2      | Banana | 200    | 4      |\n",
       "| 3      | Peach  | 200    | 3      |\n",
       "| 4      | Berry  |  50    | 2      |\n",
       "\n"
      ],
      "text/plain": [
       "  X.U.BC88..U.D638. X.U.C81C..U.D488. X.U.AE08..U.C561. X.U.C218..U.B7C9.\n",
       "1 1                 Apple             500               5                \n",
       "2 2                 Banana            200               4                \n",
       "3 3                 Peach             200               3                \n",
       "4 4                 Berry              50               2                "
      ]
     },
     "metadata": {},
     "output_type": "display_data"
    }
   ],
   "source": [
    "fruit"
   ]
  },
  {
   "cell_type": "code",
   "execution_count": 24,
   "metadata": {
    "vscode": {
     "languageId": "r"
    }
   },
   "outputs": [
    {
     "data": {
      "text/html": [
       "<ol class=list-inline>\n",
       "\t<li>'df'</li>\n",
       "\t<li>'fruit'</li>\n",
       "\t<li>'name'</li>\n",
       "\t<li>'no'</li>\n",
       "\t<li>'price'</li>\n",
       "\t<li>'qty'</li>\n",
       "</ol>\n"
      ],
      "text/latex": [
       "\\begin{enumerate*}\n",
       "\\item 'df'\n",
       "\\item 'fruit'\n",
       "\\item 'name'\n",
       "\\item 'no'\n",
       "\\item 'price'\n",
       "\\item 'qty'\n",
       "\\end{enumerate*}\n"
      ],
      "text/markdown": [
       "1. 'df'\n",
       "2. 'fruit'\n",
       "3. 'name'\n",
       "4. 'no'\n",
       "5. 'price'\n",
       "6. 'qty'\n",
       "\n",
       "\n"
      ],
      "text/plain": [
       "[1] \"df\"    \"fruit\" \"name\"  \"no\"    \"price\" \"qty\"  "
      ]
     },
     "metadata": {},
     "output_type": "display_data"
    }
   ],
   "source": [
    "ls()"
   ]
  },
  {
   "cell_type": "code",
   "execution_count": 28,
   "metadata": {
    "vscode": {
     "languageId": "r"
    }
   },
   "outputs": [
    {
     "name": "stderr",
     "output_type": "stream",
     "text": [
      "Your code contains a unicode char which cannot be displayed in your\n",
      "current locale and R will silently convert it to an escaped form when the\n",
      "R kernel executes this code. This can lead to subtle errors if you use\n",
      "such chars to do comparisons. For more information, please see\n",
      "https://github.com/IRkernel/repr/wiki/Problems-with-unicode-on-windows"
     ]
    }
   ],
   "source": [
    "# fruit를 csv로 저장하기\n",
    "write.csv(fruit,\"./Data/fruit.csv\", row.names=F)"
   ]
  },
  {
   "cell_type": "code",
   "execution_count": 29,
   "metadata": {
    "vscode": {
     "languageId": "r"
    }
   },
   "outputs": [
    {
     "data": {
      "text/html": [
       "<table>\n",
       "<thead><tr><th scope=col>X.U.BC88..U.D638.</th><th scope=col>X.U.C81C..U.D488.</th><th scope=col>X.U.AE08..U.C561.</th><th scope=col>X.U.C218..U.B7C9.</th></tr></thead>\n",
       "<tbody>\n",
       "\t<tr><td>1     </td><td>Apple </td><td>500   </td><td>5     </td></tr>\n",
       "\t<tr><td>2     </td><td>Banana</td><td>200   </td><td>4     </td></tr>\n",
       "\t<tr><td>3     </td><td>Peach </td><td>200   </td><td>3     </td></tr>\n",
       "\t<tr><td>4     </td><td>Berry </td><td> 50   </td><td>2     </td></tr>\n",
       "</tbody>\n",
       "</table>\n"
      ],
      "text/latex": [
       "\\begin{tabular}{r|llll}\n",
       " X.U.BC88..U.D638. & X.U.C81C..U.D488. & X.U.AE08..U.C561. & X.U.C218..U.B7C9.\\\\\n",
       "\\hline\n",
       "\t 1      & Apple  & 500    & 5     \\\\\n",
       "\t 2      & Banana & 200    & 4     \\\\\n",
       "\t 3      & Peach  & 200    & 3     \\\\\n",
       "\t 4      & Berry  &  50    & 2     \\\\\n",
       "\\end{tabular}\n"
      ],
      "text/markdown": [
       "\n",
       "| X.U.BC88..U.D638. | X.U.C81C..U.D488. | X.U.AE08..U.C561. | X.U.C218..U.B7C9. |\n",
       "|---|---|---|---|\n",
       "| 1      | Apple  | 500    | 5      |\n",
       "| 2      | Banana | 200    | 4      |\n",
       "| 3      | Peach  | 200    | 3      |\n",
       "| 4      | Berry  |  50    | 2      |\n",
       "\n"
      ],
      "text/plain": [
       "  X.U.BC88..U.D638. X.U.C81C..U.D488. X.U.AE08..U.C561. X.U.C218..U.B7C9.\n",
       "1 1                 Apple             500               5                \n",
       "2 2                 Banana            200               4                \n",
       "3 3                 Peach             200               3                \n",
       "4 4                 Berry              50               2                "
      ]
     },
     "metadata": {},
     "output_type": "display_data"
    }
   ],
   "source": [
    "read.csv(\"./Data/fruit.csv\")"
   ]
  },
  {
   "cell_type": "markdown",
   "metadata": {},
   "source": [
    "# 세계 GDP 순위 데이터 정제 및 차트 만들기"
   ]
  },
  {
   "cell_type": "code",
   "execution_count": 79,
   "metadata": {
    "vscode": {
     "languageId": "r"
    }
   },
   "outputs": [
    {
     "name": "stdout",
     "output_type": "stream",
     "text": [
      "'data.frame':\t324 obs. of  4 variables:\n",
      " $ X                          : chr  \"USA\" \"CHN\" \"JPN\" \"DEU\" ...\n",
      " $ Gross.domestic.product.2018: chr  \"1\" \"2\" \"3\" \"4\" ...\n",
      " $ X.2                        : chr  \"United States\" \"China\" \"Japan\" \"Germany\" ...\n",
      " $ X.3                        : chr  \" 20,494,100 \" \" 13,608,152 \" \" 4,970,916 \" \" 3,996,759 \" ...\n"
     ]
    },
    {
     "data": {
      "text/html": [
       "<table>\n",
       "<thead><tr><th></th><th scope=col>X</th><th scope=col>Gross.domestic.product.2018</th><th scope=col>X.2</th><th scope=col>X.3</th></tr></thead>\n",
       "<tbody>\n",
       "\t<tr><th scope=row>5</th><td>USA               </td><td>1                 </td><td>United States     </td><td> 20,494,100       </td></tr>\n",
       "\t<tr><th scope=row>6</th><td>CHN               </td><td>2                 </td><td>China             </td><td> 13,608,152       </td></tr>\n",
       "\t<tr><th scope=row>7</th><td>JPN               </td><td>3                 </td><td>Japan             </td><td> 4,970,916        </td></tr>\n",
       "\t<tr><th scope=row>8</th><td>DEU               </td><td>4                 </td><td>Germany           </td><td> 3,996,759        </td></tr>\n",
       "\t<tr><th scope=row>9</th><td>GBR               </td><td>5                 </td><td>United Kingdom    </td><td> 2,825,208        </td></tr>\n",
       "\t<tr><th scope=row>10</th><td>FRA               </td><td>6                 </td><td>France            </td><td> 2,777,535        </td></tr>\n",
       "\t<tr><th scope=row>11</th><td>IND               </td><td>7                 </td><td>India             </td><td> 2,726,323        </td></tr>\n",
       "\t<tr><th scope=row>12</th><td>ITA               </td><td>8                 </td><td>Italy             </td><td> 2,073,902        </td></tr>\n",
       "\t<tr><th scope=row>13</th><td>BRA               </td><td>9                 </td><td>Brazil            </td><td> 1,868,626        </td></tr>\n",
       "\t<tr><th scope=row>14</th><td>CAN               </td><td>10                </td><td>Canada            </td><td> 1,712,510        </td></tr>\n",
       "\t<tr><th scope=row>15</th><td>RUS               </td><td>11                </td><td>Russian Federation</td><td> 1,657,554        </td></tr>\n",
       "\t<tr><th scope=row>16</th><td>KOR               </td><td>12                </td><td>Korea, Rep.       </td><td> 1,619,424        </td></tr>\n",
       "\t<tr><th scope=row>17</th><td>AUS               </td><td>13                </td><td>Australia         </td><td> 1,432,195        </td></tr>\n",
       "\t<tr><th scope=row>18</th><td>ESP               </td><td>14                </td><td>Spain             </td><td> 1,426,189        </td></tr>\n",
       "\t<tr><th scope=row>19</th><td>MEX               </td><td>15                </td><td>Mexico            </td><td> 1,223,809        </td></tr>\n",
       "</tbody>\n",
       "</table>\n"
      ],
      "text/latex": [
       "\\begin{tabular}{r|llll}\n",
       "  & X & Gross.domestic.product.2018 & X.2 & X.3\\\\\n",
       "\\hline\n",
       "\t5 & USA                & 1                  & United States      &  20,494,100       \\\\\n",
       "\t6 & CHN                & 2                  & China              &  13,608,152       \\\\\n",
       "\t7 & JPN                & 3                  & Japan              &  4,970,916        \\\\\n",
       "\t8 & DEU                & 4                  & Germany            &  3,996,759        \\\\\n",
       "\t9 & GBR                & 5                  & United Kingdom     &  2,825,208        \\\\\n",
       "\t10 & FRA                & 6                  & France             &  2,777,535        \\\\\n",
       "\t11 & IND                & 7                  & India              &  2,726,323        \\\\\n",
       "\t12 & ITA                & 8                  & Italy              &  2,073,902        \\\\\n",
       "\t13 & BRA                & 9                  & Brazil             &  1,868,626        \\\\\n",
       "\t14 & CAN                & 10                 & Canada             &  1,712,510        \\\\\n",
       "\t15 & RUS                & 11                 & Russian Federation &  1,657,554        \\\\\n",
       "\t16 & KOR                & 12                 & Korea, Rep.        &  1,619,424        \\\\\n",
       "\t17 & AUS                & 13                 & Australia          &  1,432,195        \\\\\n",
       "\t18 & ESP                & 14                 & Spain              &  1,426,189        \\\\\n",
       "\t19 & MEX                & 15                 & Mexico             &  1,223,809        \\\\\n",
       "\\end{tabular}\n"
      ],
      "text/markdown": [
       "\n",
       "| <!--/--> | X | Gross.domestic.product.2018 | X.2 | X.3 |\n",
       "|---|---|---|---|---|\n",
       "| 5 | USA                | 1                  | United States      |  20,494,100        |\n",
       "| 6 | CHN                | 2                  | China              |  13,608,152        |\n",
       "| 7 | JPN                | 3                  | Japan              |  4,970,916         |\n",
       "| 8 | DEU                | 4                  | Germany            |  3,996,759         |\n",
       "| 9 | GBR                | 5                  | United Kingdom     |  2,825,208         |\n",
       "| 10 | FRA                | 6                  | France             |  2,777,535         |\n",
       "| 11 | IND                | 7                  | India              |  2,726,323         |\n",
       "| 12 | ITA                | 8                  | Italy              |  2,073,902         |\n",
       "| 13 | BRA                | 9                  | Brazil             |  1,868,626         |\n",
       "| 14 | CAN                | 10                 | Canada             |  1,712,510         |\n",
       "| 15 | RUS                | 11                 | Russian Federation |  1,657,554         |\n",
       "| 16 | KOR                | 12                 | Korea, Rep.        |  1,619,424         |\n",
       "| 17 | AUS                | 13                 | Australia          |  1,432,195         |\n",
       "| 18 | ESP                | 14                 | Spain              |  1,426,189         |\n",
       "| 19 | MEX                | 15                 | Mexico             |  1,223,809         |\n",
       "\n"
      ],
      "text/plain": [
       "   X   Gross.domestic.product.2018 X.2                X.3         \n",
       "5  USA 1                           United States       20,494,100 \n",
       "6  CHN 2                           China               13,608,152 \n",
       "7  JPN 3                           Japan               4,970,916  \n",
       "8  DEU 4                           Germany             3,996,759  \n",
       "9  GBR 5                           United Kingdom      2,825,208  \n",
       "10 FRA 6                           France              2,777,535  \n",
       "11 IND 7                           India               2,726,323  \n",
       "12 ITA 8                           Italy               2,073,902  \n",
       "13 BRA 9                           Brazil              1,868,626  \n",
       "14 CAN 10                          Canada              1,712,510  \n",
       "15 RUS 11                          Russian Federation  1,657,554  \n",
       "16 KOR 12                          Korea, Rep.         1,619,424  \n",
       "17 AUS 13                          Australia           1,432,195  \n",
       "18 ESP 14                          Spain               1,426,189  \n",
       "19 MEX 15                          Mexico              1,223,809  "
      ]
     },
     "metadata": {},
     "output_type": "display_data"
    }
   ],
   "source": [
    "\n",
    "\n",
    "GDP_ranking = read.csv(\"./Data/GDP.csv\",stringsAsFactors = F)\n",
    "GDP_ranking2 <- GDP_ranking[-1:-4,c(-3,-6)]\n",
    "str(GDP_ranking2)\n",
    "GDP_ranking15 <- head(GDP_ranking2,15)\n",
    "GDP_ranking15"
   ]
  },
  {
   "cell_type": "code",
   "execution_count": 78,
   "metadata": {
    "vscode": {
     "languageId": "r"
    }
   },
   "outputs": [
    {
     "name": "stderr",
     "output_type": "stream",
     "text": [
      "Your code contains a unicode char which cannot be displayed in your\n",
      "current locale and R will silently convert it to an escaped form when the\n",
      "R kernel executes this code. This can lead to subtle errors if you use\n",
      "such chars to do comparisons. For more information, please see\n",
      "https://github.com/IRkernel/repr/wiki/Problems-with-unicode-on-windows"
     ]
    },
    {
     "data": {
      "text/html": [
       "<table>\n",
       "<thead><tr><th scope=col>Code</th><th scope=col>Ranking</th><th scope=col>Nation</th><th scope=col>GDP</th></tr></thead>\n",
       "<tbody>\n",
       "\t<tr><td>USA           </td><td>1             </td><td>United States </td><td> 20,494,100   </td></tr>\n",
       "\t<tr><td>CHN           </td><td>2             </td><td>China         </td><td> 13,608,152   </td></tr>\n",
       "\t<tr><td>JPN           </td><td>3             </td><td>Japan         </td><td> 4,970,916    </td></tr>\n",
       "\t<tr><td>DEU           </td><td>4             </td><td>Germany       </td><td> 3,996,759    </td></tr>\n",
       "\t<tr><td>GBR           </td><td>5             </td><td>United Kingdom</td><td> 2,825,208    </td></tr>\n",
       "\t<tr><td>FRA           </td><td>6             </td><td>France        </td><td> 2,777,535    </td></tr>\n",
       "</tbody>\n",
       "</table>\n"
      ],
      "text/latex": [
       "\\begin{tabular}{r|llll}\n",
       " Code & Ranking & Nation & GDP\\\\\n",
       "\\hline\n",
       "\t USA            & 1              & United States  &  20,494,100   \\\\\n",
       "\t CHN            & 2              & China          &  13,608,152   \\\\\n",
       "\t JPN            & 3              & Japan          &  4,970,916    \\\\\n",
       "\t DEU            & 4              & Germany        &  3,996,759    \\\\\n",
       "\t GBR            & 5              & United Kingdom &  2,825,208    \\\\\n",
       "\t FRA            & 6              & France         &  2,777,535    \\\\\n",
       "\\end{tabular}\n"
      ],
      "text/markdown": [
       "\n",
       "| Code | Ranking | Nation | GDP |\n",
       "|---|---|---|---|\n",
       "| USA            | 1              | United States  |  20,494,100    |\n",
       "| CHN            | 2              | China          |  13,608,152    |\n",
       "| JPN            | 3              | Japan          |  4,970,916     |\n",
       "| DEU            | 4              | Germany        |  3,996,759     |\n",
       "| GBR            | 5              | United Kingdom |  2,825,208     |\n",
       "| FRA            | 6              | France         |  2,777,535     |\n",
       "\n"
      ],
      "text/plain": [
       "  Code Ranking Nation         GDP         \n",
       "1 USA  1       United States   20,494,100 \n",
       "2 CHN  2       China           13,608,152 \n",
       "3 JPN  3       Japan           4,970,916  \n",
       "4 DEU  4       Germany         3,996,759  \n",
       "5 GBR  5       United Kingdom  2,825,208  \n",
       "6 FRA  6       France          2,777,535  "
      ]
     },
     "metadata": {},
     "output_type": "display_data"
    }
   ],
   "source": [
    "#컬럼 이름 정의 :  Code, Ranking,Nation,GDP\n",
    "colnames(GDP_ranking15) <- c(\"Code\",\"Ranking\",\"Nation\",\"GDP\")\n",
    "head(GDP_ranking15)"
   ]
  },
  {
   "cell_type": "code",
   "execution_count": 77,
   "metadata": {
    "vscode": {
     "languageId": "r"
    }
   },
   "outputs": [
    {
     "data": {
      "text/html": [
       "<table>\n",
       "<thead><tr><th scope=col>Code</th><th scope=col>Ranking</th><th scope=col>Nation</th><th scope=col>GDP</th></tr></thead>\n",
       "<tbody>\n",
       "\t<tr><td>USA           </td><td>1             </td><td>United States </td><td> 20,494,100   </td></tr>\n",
       "\t<tr><td>CHN           </td><td>2             </td><td>China         </td><td> 13,608,152   </td></tr>\n",
       "\t<tr><td>JPN           </td><td>3             </td><td>Japan         </td><td> 4,970,916    </td></tr>\n",
       "\t<tr><td>DEU           </td><td>4             </td><td>Germany       </td><td> 3,996,759    </td></tr>\n",
       "\t<tr><td>GBR           </td><td>5             </td><td>United Kingdom</td><td> 2,825,208    </td></tr>\n",
       "\t<tr><td>FRA           </td><td>6             </td><td>France        </td><td> 2,777,535    </td></tr>\n",
       "</tbody>\n",
       "</table>\n"
      ],
      "text/latex": [
       "\\begin{tabular}{r|llll}\n",
       " Code & Ranking & Nation & GDP\\\\\n",
       "\\hline\n",
       "\t USA            & 1              & United States  &  20,494,100   \\\\\n",
       "\t CHN            & 2              & China          &  13,608,152   \\\\\n",
       "\t JPN            & 3              & Japan          &  4,970,916    \\\\\n",
       "\t DEU            & 4              & Germany        &  3,996,759    \\\\\n",
       "\t GBR            & 5              & United Kingdom &  2,825,208    \\\\\n",
       "\t FRA            & 6              & France         &  2,777,535    \\\\\n",
       "\\end{tabular}\n"
      ],
      "text/markdown": [
       "\n",
       "| Code | Ranking | Nation | GDP |\n",
       "|---|---|---|---|\n",
       "| USA            | 1              | United States  |  20,494,100    |\n",
       "| CHN            | 2              | China          |  13,608,152    |\n",
       "| JPN            | 3              | Japan          |  4,970,916     |\n",
       "| DEU            | 4              | Germany        |  3,996,759     |\n",
       "| GBR            | 5              | United Kingdom |  2,825,208     |\n",
       "| FRA            | 6              | France         |  2,777,535     |\n",
       "\n"
      ],
      "text/plain": [
       "  Code Ranking Nation         GDP         \n",
       "1 USA  1       United States   20,494,100 \n",
       "2 CHN  2       China           13,608,152 \n",
       "3 JPN  3       Japan           4,970,916  \n",
       "4 DEU  4       Germany         3,996,759  \n",
       "5 GBR  5       United Kingdom  2,825,208  \n",
       "6 FRA  6       France          2,777,535  "
      ]
     },
     "metadata": {},
     "output_type": "display_data"
    }
   ],
   "source": [
    "head(GDP_ranking15)"
   ]
  },
  {
   "cell_type": "code",
   "execution_count": 76,
   "metadata": {
    "vscode": {
     "languageId": "r"
    }
   },
   "outputs": [
    {
     "data": {
      "text/html": [
       "<table>\n",
       "<thead><tr><th scope=col>Code</th><th scope=col>Ranking</th><th scope=col>Nation</th><th scope=col>GDP</th></tr></thead>\n",
       "<tbody>\n",
       "\t<tr><td>USA               </td><td>1                 </td><td>United States     </td><td> 20,494,100       </td></tr>\n",
       "\t<tr><td>CHN               </td><td>2                 </td><td>China             </td><td> 13,608,152       </td></tr>\n",
       "\t<tr><td>JPN               </td><td>3                 </td><td>Japan             </td><td> 4,970,916        </td></tr>\n",
       "\t<tr><td>DEU               </td><td>4                 </td><td>Germany           </td><td> 3,996,759        </td></tr>\n",
       "\t<tr><td>GBR               </td><td>5                 </td><td>United Kingdom    </td><td> 2,825,208        </td></tr>\n",
       "\t<tr><td>FRA               </td><td>6                 </td><td>France            </td><td> 2,777,535        </td></tr>\n",
       "\t<tr><td>IND               </td><td>7                 </td><td>India             </td><td> 2,726,323        </td></tr>\n",
       "\t<tr><td>ITA               </td><td>8                 </td><td>Italy             </td><td> 2,073,902        </td></tr>\n",
       "\t<tr><td>BRA               </td><td>9                 </td><td>Brazil            </td><td> 1,868,626        </td></tr>\n",
       "\t<tr><td>CAN               </td><td>10                </td><td>Canada            </td><td> 1,712,510        </td></tr>\n",
       "\t<tr><td>RUS               </td><td>11                </td><td>Russian Federation</td><td> 1,657,554        </td></tr>\n",
       "\t<tr><td>KOR               </td><td>12                </td><td>Korea, Rep.       </td><td> 1,619,424        </td></tr>\n",
       "\t<tr><td>AUS               </td><td>13                </td><td>Australia         </td><td> 1,432,195        </td></tr>\n",
       "\t<tr><td>ESP               </td><td>14                </td><td>Spain             </td><td> 1,426,189        </td></tr>\n",
       "\t<tr><td>MEX               </td><td>15                </td><td>Mexico            </td><td> 1,223,809        </td></tr>\n",
       "</tbody>\n",
       "</table>\n"
      ],
      "text/latex": [
       "\\begin{tabular}{r|llll}\n",
       " Code & Ranking & Nation & GDP\\\\\n",
       "\\hline\n",
       "\t USA                & 1                  & United States      &  20,494,100       \\\\\n",
       "\t CHN                & 2                  & China              &  13,608,152       \\\\\n",
       "\t JPN                & 3                  & Japan              &  4,970,916        \\\\\n",
       "\t DEU                & 4                  & Germany            &  3,996,759        \\\\\n",
       "\t GBR                & 5                  & United Kingdom     &  2,825,208        \\\\\n",
       "\t FRA                & 6                  & France             &  2,777,535        \\\\\n",
       "\t IND                & 7                  & India              &  2,726,323        \\\\\n",
       "\t ITA                & 8                  & Italy              &  2,073,902        \\\\\n",
       "\t BRA                & 9                  & Brazil             &  1,868,626        \\\\\n",
       "\t CAN                & 10                 & Canada             &  1,712,510        \\\\\n",
       "\t RUS                & 11                 & Russian Federation &  1,657,554        \\\\\n",
       "\t KOR                & 12                 & Korea, Rep.        &  1,619,424        \\\\\n",
       "\t AUS                & 13                 & Australia          &  1,432,195        \\\\\n",
       "\t ESP                & 14                 & Spain              &  1,426,189        \\\\\n",
       "\t MEX                & 15                 & Mexico             &  1,223,809        \\\\\n",
       "\\end{tabular}\n"
      ],
      "text/markdown": [
       "\n",
       "| Code | Ranking | Nation | GDP |\n",
       "|---|---|---|---|\n",
       "| USA                | 1                  | United States      |  20,494,100        |\n",
       "| CHN                | 2                  | China              |  13,608,152        |\n",
       "| JPN                | 3                  | Japan              |  4,970,916         |\n",
       "| DEU                | 4                  | Germany            |  3,996,759         |\n",
       "| GBR                | 5                  | United Kingdom     |  2,825,208         |\n",
       "| FRA                | 6                  | France             |  2,777,535         |\n",
       "| IND                | 7                  | India              |  2,726,323         |\n",
       "| ITA                | 8                  | Italy              |  2,073,902         |\n",
       "| BRA                | 9                  | Brazil             |  1,868,626         |\n",
       "| CAN                | 10                 | Canada             |  1,712,510         |\n",
       "| RUS                | 11                 | Russian Federation |  1,657,554         |\n",
       "| KOR                | 12                 | Korea, Rep.        |  1,619,424         |\n",
       "| AUS                | 13                 | Australia          |  1,432,195         |\n",
       "| ESP                | 14                 | Spain              |  1,426,189         |\n",
       "| MEX                | 15                 | Mexico             |  1,223,809         |\n",
       "\n"
      ],
      "text/plain": [
       "   Code Ranking Nation             GDP         \n",
       "1  USA  1       United States       20,494,100 \n",
       "2  CHN  2       China               13,608,152 \n",
       "3  JPN  3       Japan               4,970,916  \n",
       "4  DEU  4       Germany             3,996,759  \n",
       "5  GBR  5       United Kingdom      2,825,208  \n",
       "6  FRA  6       France              2,777,535  \n",
       "7  IND  7       India               2,726,323  \n",
       "8  ITA  8       Italy               2,073,902  \n",
       "9  BRA  9       Brazil              1,868,626  \n",
       "10 CAN  10      Canada              1,712,510  \n",
       "11 RUS  11      Russian Federation  1,657,554  \n",
       "12 KOR  12      Korea, Rep.         1,619,424  \n",
       "13 AUS  13      Australia           1,432,195  \n",
       "14 ESP  14      Spain               1,426,189  \n",
       "15 MEX  15      Mexico              1,223,809  "
      ]
     },
     "metadata": {},
     "output_type": "display_data"
    }
   ],
   "source": [
    "\n",
    "GDP_ranking15"
   ]
  },
  {
   "cell_type": "code",
   "execution_count": null,
   "metadata": {
    "vscode": {
     "languageId": "r"
    }
   },
   "outputs": [],
   "source": []
  }
 ],
 "metadata": {
  "kernelspec": {
   "display_name": "R",
   "language": "R",
   "name": "ir"
  },
  "language_info": {
   "name": "R"
  }
 },
 "nbformat": 4,
 "nbformat_minor": 2
}
