{
 "cells": [
  {
   "cell_type": "code",
   "execution_count": 11,
   "metadata": {
    "vscode": {
     "languageId": "r"
    }
   },
   "outputs": [
    {
     "data": {
      "text/html": [
       "'ko_KR.UTF-8/ko_KR.UTF-8/ko_KR.UTF-8/C/ko_KR.UTF-8/C'"
      ],
      "text/latex": [
       "'ko\\_KR.UTF-8/ko\\_KR.UTF-8/ko\\_KR.UTF-8/C/ko\\_KR.UTF-8/C'"
      ],
      "text/markdown": [
       "'ko_KR.UTF-8/ko_KR.UTF-8/ko_KR.UTF-8/C/ko_KR.UTF-8/C'"
      ],
      "text/plain": [
       "[1] \"ko_KR.UTF-8/ko_KR.UTF-8/ko_KR.UTF-8/C/ko_KR.UTF-8/C\""
      ]
     },
     "metadata": {},
     "output_type": "display_data"
    }
   ],
   "source": [
    "options(warn = -1)\n",
    "options(repr.plot.width=15, repr.plot.height=9) \n",
    "Sys.setlocale(category = \"LC_ALL\", locale = \"ko_KR.UTF-8\")"
   ]
  },
  {
   "cell_type": "code",
   "execution_count": 3,
   "metadata": {
    "vscode": {
     "languageId": "r"
    }
   },
   "outputs": [
    {
     "data": {
      "text/html": [
       "<table class=\"dataframe\">\n",
       "<caption>A data.frame: 4 x 4</caption>\n",
       "<thead>\n",
       "\t<tr><th scope=col>번호</th><th scope=col>제품</th><th scope=col>금액</th><th scope=col>수량</th></tr>\n",
       "\t<tr><th scope=col>&lt;int&gt;</th><th scope=col>&lt;chr&gt;</th><th scope=col>&lt;dbl&gt;</th><th scope=col>&lt;dbl&gt;</th></tr>\n",
       "</thead>\n",
       "<tbody>\n",
       "\t<tr><td>1</td><td>Apple </td><td>500</td><td>5</td></tr>\n",
       "\t<tr><td>2</td><td>Banana</td><td>200</td><td>4</td></tr>\n",
       "\t<tr><td>3</td><td>Peach </td><td>200</td><td>3</td></tr>\n",
       "\t<tr><td>4</td><td>Berry </td><td> 50</td><td>2</td></tr>\n",
       "</tbody>\n",
       "</table>\n"
      ],
      "text/latex": [
       "A data.frame: 4 x 4\n",
       "\\begin{tabular}{llll}\n",
       " 번호 & 제품 & 금액 & 수량\\\\\n",
       " <int> & <chr> & <dbl> & <dbl>\\\\\n",
       "\\hline\n",
       "\t 1 & Apple  & 500 & 5\\\\\n",
       "\t 2 & Banana & 200 & 4\\\\\n",
       "\t 3 & Peach  & 200 & 3\\\\\n",
       "\t 4 & Berry  &  50 & 2\\\\\n",
       "\\end{tabular}\n"
      ],
      "text/markdown": [
       "\n",
       "A data.frame: 4 x 4\n",
       "\n",
       "| 번호 &lt;int&gt; | 제품 &lt;chr&gt; | 금액 &lt;dbl&gt; | 수량 &lt;dbl&gt; |\n",
       "|---|---|---|---|\n",
       "| 1 | Apple  | 500 | 5 |\n",
       "| 2 | Banana | 200 | 4 |\n",
       "| 3 | Peach  | 200 | 3 |\n",
       "| 4 | Berry  |  50 | 2 |\n",
       "\n"
      ],
      "text/plain": [
       "  번호 제품   금액 수량\n",
       "1 1    Apple  500  5   \n",
       "2 2    Banana 200  4   \n",
       "3 3    Peach  200  3   \n",
       "4 4    Berry   50  2   "
      ]
     },
     "metadata": {},
     "output_type": "display_data"
    },
    {
     "data": {
      "text/html": [
       "<style>\n",
       ".list-inline {list-style: none; margin:0; padding: 0}\n",
       ".list-inline>li {display: inline-block}\n",
       ".list-inline>li:not(:last-child)::after {content: \"\\00b7\"; padding: 0 .5ex}\n",
       "</style>\n",
       "<ol class=list-inline><li>'fruit'</li><li>'name'</li><li>'no'</li><li>'price'</li><li>'qty'</li></ol>\n"
      ],
      "text/latex": [
       "\\begin{enumerate*}\n",
       "\\item 'fruit'\n",
       "\\item 'name'\n",
       "\\item 'no'\n",
       "\\item 'price'\n",
       "\\item 'qty'\n",
       "\\end{enumerate*}\n"
      ],
      "text/markdown": [
       "1. 'fruit'\n",
       "2. 'name'\n",
       "3. 'no'\n",
       "4. 'price'\n",
       "5. 'qty'\n",
       "\n",
       "\n"
      ],
      "text/plain": [
       "[1] \"fruit\" \"name\"  \"no\"    \"price\" \"qty\"  "
      ]
     },
     "metadata": {},
     "output_type": "display_data"
    }
   ],
   "source": [
    "no <- 1:4\n",
    "name <- c(\"Apple\",\"Banana\",\"Peach\",\"Berry\")\n",
    "price <- c(500,200,200,50)\n",
    "qty <- c(5,4,3,2)\n",
    "fruit <- data.frame(\"번호\" = no, \"제품\" = name, \"금액\" = price, \"수량\" = qty)\n",
    "fruit\n",
    "\n",
    "ls()"
   ]
  },
  {
   "cell_type": "code",
   "execution_count": 13,
   "metadata": {
    "vscode": {
     "languageId": "r"
    }
   },
   "outputs": [],
   "source": [
    "#메모리 형태로 파일 보관\n",
    "save(no,fruit,name,file=\"./Data/testFruit.csv\")"
   ]
  },
  {
   "cell_type": "code",
   "execution_count": 14,
   "metadata": {
    "vscode": {
     "languageId": "r"
    }
   },
   "outputs": [
    {
     "data": {
      "text/html": [
       "<style>\n",
       ".list-inline {list-style: none; margin:0; padding: 0}\n",
       ".list-inline>li {display: inline-block}\n",
       ".list-inline>li:not(:last-child)::after {content: \"\\00b7\"; padding: 0 .5ex}\n",
       "</style>\n",
       "<ol class=list-inline><li>'price'</li><li>'qty'</li></ol>\n"
      ],
      "text/latex": [
       "\\begin{enumerate*}\n",
       "\\item 'price'\n",
       "\\item 'qty'\n",
       "\\end{enumerate*}\n"
      ],
      "text/markdown": [
       "1. 'price'\n",
       "2. 'qty'\n",
       "\n",
       "\n"
      ],
      "text/plain": [
       "[1] \"price\" \"qty\"  "
      ]
     },
     "metadata": {},
     "output_type": "display_data"
    }
   ],
   "source": [
    "rm(no,fruit,name)\n",
    "ls()"
   ]
  },
  {
   "cell_type": "code",
   "execution_count": 15,
   "metadata": {
    "vscode": {
     "languageId": "r"
    }
   },
   "outputs": [],
   "source": [
    "load(\"./Data/testFruit.hwp\")"
   ]
  },
  {
   "cell_type": "code",
   "execution_count": 16,
   "metadata": {
    "vscode": {
     "languageId": "r"
    }
   },
   "outputs": [
    {
     "data": {
      "text/html": [
       "<table class=\"dataframe\">\n",
       "<caption>A data.frame: 4 x 4</caption>\n",
       "<thead>\n",
       "\t<tr><th scope=col>X.U.BC88..U.D638.</th><th scope=col>X.U.C81C..U.D488.</th><th scope=col>X.U.AE08..U.C561.</th><th scope=col>X.U.C218..U.B7C9.</th></tr>\n",
       "\t<tr><th scope=col>&lt;int&gt;</th><th scope=col>&lt;fct&gt;</th><th scope=col>&lt;dbl&gt;</th><th scope=col>&lt;dbl&gt;</th></tr>\n",
       "</thead>\n",
       "<tbody>\n",
       "\t<tr><td>1</td><td>Apple </td><td>500</td><td>5</td></tr>\n",
       "\t<tr><td>2</td><td>Banana</td><td>200</td><td>4</td></tr>\n",
       "\t<tr><td>3</td><td>Peach </td><td>200</td><td>3</td></tr>\n",
       "\t<tr><td>4</td><td>Berry </td><td> 50</td><td>2</td></tr>\n",
       "</tbody>\n",
       "</table>\n"
      ],
      "text/latex": [
       "A data.frame: 4 x 4\n",
       "\\begin{tabular}{llll}\n",
       " X.U.BC88..U.D638. & X.U.C81C..U.D488. & X.U.AE08..U.C561. & X.U.C218..U.B7C9.\\\\\n",
       " <int> & <fct> & <dbl> & <dbl>\\\\\n",
       "\\hline\n",
       "\t 1 & Apple  & 500 & 5\\\\\n",
       "\t 2 & Banana & 200 & 4\\\\\n",
       "\t 3 & Peach  & 200 & 3\\\\\n",
       "\t 4 & Berry  &  50 & 2\\\\\n",
       "\\end{tabular}\n"
      ],
      "text/markdown": [
       "\n",
       "A data.frame: 4 x 4\n",
       "\n",
       "| X.U.BC88..U.D638. &lt;int&gt; | X.U.C81C..U.D488. &lt;fct&gt; | X.U.AE08..U.C561. &lt;dbl&gt; | X.U.C218..U.B7C9. &lt;dbl&gt; |\n",
       "|---|---|---|---|\n",
       "| 1 | Apple  | 500 | 5 |\n",
       "| 2 | Banana | 200 | 4 |\n",
       "| 3 | Peach  | 200 | 3 |\n",
       "| 4 | Berry  |  50 | 2 |\n",
       "\n"
      ],
      "text/plain": [
       "  X.U.BC88..U.D638. X.U.C81C..U.D488. X.U.AE08..U.C561. X.U.C218..U.B7C9.\n",
       "1 1                 Apple             500               5                \n",
       "2 2                 Banana            200               4                \n",
       "3 3                 Peach             200               3                \n",
       "4 4                 Berry              50               2                "
      ]
     },
     "metadata": {},
     "output_type": "display_data"
    }
   ],
   "source": [
    "fruit"
   ]
  },
  {
   "cell_type": "code",
   "execution_count": 17,
   "metadata": {
    "vscode": {
     "languageId": "r"
    }
   },
   "outputs": [
    {
     "data": {
      "text/html": [
       "<style>\n",
       ".list-inline {list-style: none; margin:0; padding: 0}\n",
       ".list-inline>li {display: inline-block}\n",
       ".list-inline>li:not(:last-child)::after {content: \"\\00b7\"; padding: 0 .5ex}\n",
       "</style>\n",
       "<ol class=list-inline><li>'fruit'</li><li>'name'</li><li>'no'</li><li>'price'</li><li>'qty'</li></ol>\n"
      ],
      "text/latex": [
       "\\begin{enumerate*}\n",
       "\\item 'fruit'\n",
       "\\item 'name'\n",
       "\\item 'no'\n",
       "\\item 'price'\n",
       "\\item 'qty'\n",
       "\\end{enumerate*}\n"
      ],
      "text/markdown": [
       "1. 'fruit'\n",
       "2. 'name'\n",
       "3. 'no'\n",
       "4. 'price'\n",
       "5. 'qty'\n",
       "\n",
       "\n"
      ],
      "text/plain": [
       "[1] \"fruit\" \"name\"  \"no\"    \"price\" \"qty\"  "
      ]
     },
     "metadata": {},
     "output_type": "display_data"
    }
   ],
   "source": [
    "ls()"
   ]
  },
  {
   "cell_type": "code",
   "execution_count": 18,
   "metadata": {
    "vscode": {
     "languageId": "r"
    }
   },
   "outputs": [],
   "source": [
    "# fruit를 csv로 저장하기\n",
    "write.csv(fruit,\"./Data/fruit.csv\", row.names=F)"
   ]
  },
  {
   "cell_type": "code",
   "execution_count": 19,
   "metadata": {
    "vscode": {
     "languageId": "r"
    }
   },
   "outputs": [
    {
     "data": {
      "text/html": [
       "<table class=\"dataframe\">\n",
       "<caption>A data.frame: 4 x 4</caption>\n",
       "<thead>\n",
       "\t<tr><th scope=col>X.U.BC88..U.D638.</th><th scope=col>X.U.C81C..U.D488.</th><th scope=col>X.U.AE08..U.C561.</th><th scope=col>X.U.C218..U.B7C9.</th></tr>\n",
       "\t<tr><th scope=col>&lt;int&gt;</th><th scope=col>&lt;chr&gt;</th><th scope=col>&lt;int&gt;</th><th scope=col>&lt;int&gt;</th></tr>\n",
       "</thead>\n",
       "<tbody>\n",
       "\t<tr><td>1</td><td>Apple </td><td>500</td><td>5</td></tr>\n",
       "\t<tr><td>2</td><td>Banana</td><td>200</td><td>4</td></tr>\n",
       "\t<tr><td>3</td><td>Peach </td><td>200</td><td>3</td></tr>\n",
       "\t<tr><td>4</td><td>Berry </td><td> 50</td><td>2</td></tr>\n",
       "</tbody>\n",
       "</table>\n"
      ],
      "text/latex": [
       "A data.frame: 4 x 4\n",
       "\\begin{tabular}{llll}\n",
       " X.U.BC88..U.D638. & X.U.C81C..U.D488. & X.U.AE08..U.C561. & X.U.C218..U.B7C9.\\\\\n",
       " <int> & <chr> & <int> & <int>\\\\\n",
       "\\hline\n",
       "\t 1 & Apple  & 500 & 5\\\\\n",
       "\t 2 & Banana & 200 & 4\\\\\n",
       "\t 3 & Peach  & 200 & 3\\\\\n",
       "\t 4 & Berry  &  50 & 2\\\\\n",
       "\\end{tabular}\n"
      ],
      "text/markdown": [
       "\n",
       "A data.frame: 4 x 4\n",
       "\n",
       "| X.U.BC88..U.D638. &lt;int&gt; | X.U.C81C..U.D488. &lt;chr&gt; | X.U.AE08..U.C561. &lt;int&gt; | X.U.C218..U.B7C9. &lt;int&gt; |\n",
       "|---|---|---|---|\n",
       "| 1 | Apple  | 500 | 5 |\n",
       "| 2 | Banana | 200 | 4 |\n",
       "| 3 | Peach  | 200 | 3 |\n",
       "| 4 | Berry  |  50 | 2 |\n",
       "\n"
      ],
      "text/plain": [
       "  X.U.BC88..U.D638. X.U.C81C..U.D488. X.U.AE08..U.C561. X.U.C218..U.B7C9.\n",
       "1 1                 Apple             500               5                \n",
       "2 2                 Banana            200               4                \n",
       "3 3                 Peach             200               3                \n",
       "4 4                 Berry              50               2                "
      ]
     },
     "metadata": {},
     "output_type": "display_data"
    }
   ],
   "source": [
    "read.csv(\"./Data/fruit.csv\")"
   ]
  },
  {
   "cell_type": "markdown",
   "metadata": {},
   "source": [
    "# 세계 GDP 순위 데이터 정제 및 차트 만들기"
   ]
  },
  {
   "cell_type": "code",
   "execution_count": 20,
   "metadata": {
    "vscode": {
     "languageId": "r"
    }
   },
   "outputs": [
    {
     "name": "stdout",
     "output_type": "stream",
     "text": [
      "'data.frame':\t324 obs. of  4 variables:\n",
      " $ X                          : chr  \"USA\" \"CHN\" \"JPN\" \"DEU\" ...\n",
      " $ Gross.domestic.product.2018: chr  \"1\" \"2\" \"3\" \"4\" ...\n",
      " $ X.2                        : chr  \"United States\" \"China\" \"Japan\" \"Germany\" ...\n",
      " $ X.3                        : chr  \" 20,494,100 \" \" 13,608,152 \" \" 4,970,916 \" \" 3,996,759 \" ...\n"
     ]
    },
    {
     "data": {
      "text/html": [
       "<table class=\"dataframe\">\n",
       "<caption>A data.frame: 15 x 4</caption>\n",
       "<thead>\n",
       "\t<tr><th></th><th scope=col>X</th><th scope=col>Gross.domestic.product.2018</th><th scope=col>X.2</th><th scope=col>X.3</th></tr>\n",
       "\t<tr><th></th><th scope=col>&lt;chr&gt;</th><th scope=col>&lt;chr&gt;</th><th scope=col>&lt;chr&gt;</th><th scope=col>&lt;chr&gt;</th></tr>\n",
       "</thead>\n",
       "<tbody>\n",
       "\t<tr><th scope=row>5</th><td>USA</td><td>1 </td><td>United States     </td><td> 20,494,100 </td></tr>\n",
       "\t<tr><th scope=row>6</th><td>CHN</td><td>2 </td><td>China             </td><td> 13,608,152 </td></tr>\n",
       "\t<tr><th scope=row>7</th><td>JPN</td><td>3 </td><td>Japan             </td><td> 4,970,916  </td></tr>\n",
       "\t<tr><th scope=row>8</th><td>DEU</td><td>4 </td><td>Germany           </td><td> 3,996,759  </td></tr>\n",
       "\t<tr><th scope=row>9</th><td>GBR</td><td>5 </td><td>United Kingdom    </td><td> 2,825,208  </td></tr>\n",
       "\t<tr><th scope=row>10</th><td>FRA</td><td>6 </td><td>France            </td><td> 2,777,535  </td></tr>\n",
       "\t<tr><th scope=row>11</th><td>IND</td><td>7 </td><td>India             </td><td> 2,726,323  </td></tr>\n",
       "\t<tr><th scope=row>12</th><td>ITA</td><td>8 </td><td>Italy             </td><td> 2,073,902  </td></tr>\n",
       "\t<tr><th scope=row>13</th><td>BRA</td><td>9 </td><td>Brazil            </td><td> 1,868,626  </td></tr>\n",
       "\t<tr><th scope=row>14</th><td>CAN</td><td>10</td><td>Canada            </td><td> 1,712,510  </td></tr>\n",
       "\t<tr><th scope=row>15</th><td>RUS</td><td>11</td><td>Russian Federation</td><td> 1,657,554  </td></tr>\n",
       "\t<tr><th scope=row>16</th><td>KOR</td><td>12</td><td>Korea, Rep.       </td><td> 1,619,424  </td></tr>\n",
       "\t<tr><th scope=row>17</th><td>AUS</td><td>13</td><td>Australia         </td><td> 1,432,195  </td></tr>\n",
       "\t<tr><th scope=row>18</th><td>ESP</td><td>14</td><td>Spain             </td><td> 1,426,189  </td></tr>\n",
       "\t<tr><th scope=row>19</th><td>MEX</td><td>15</td><td>Mexico            </td><td> 1,223,809  </td></tr>\n",
       "</tbody>\n",
       "</table>\n"
      ],
      "text/latex": [
       "A data.frame: 15 x 4\n",
       "\\begin{tabular}{r|llll}\n",
       "  & X & Gross.domestic.product.2018 & X.2 & X.3\\\\\n",
       "  & <chr> & <chr> & <chr> & <chr>\\\\\n",
       "\\hline\n",
       "\t5 & USA & 1  & United States      &  20,494,100 \\\\\n",
       "\t6 & CHN & 2  & China              &  13,608,152 \\\\\n",
       "\t7 & JPN & 3  & Japan              &  4,970,916  \\\\\n",
       "\t8 & DEU & 4  & Germany            &  3,996,759  \\\\\n",
       "\t9 & GBR & 5  & United Kingdom     &  2,825,208  \\\\\n",
       "\t10 & FRA & 6  & France             &  2,777,535  \\\\\n",
       "\t11 & IND & 7  & India              &  2,726,323  \\\\\n",
       "\t12 & ITA & 8  & Italy              &  2,073,902  \\\\\n",
       "\t13 & BRA & 9  & Brazil             &  1,868,626  \\\\\n",
       "\t14 & CAN & 10 & Canada             &  1,712,510  \\\\\n",
       "\t15 & RUS & 11 & Russian Federation &  1,657,554  \\\\\n",
       "\t16 & KOR & 12 & Korea, Rep.        &  1,619,424  \\\\\n",
       "\t17 & AUS & 13 & Australia          &  1,432,195  \\\\\n",
       "\t18 & ESP & 14 & Spain              &  1,426,189  \\\\\n",
       "\t19 & MEX & 15 & Mexico             &  1,223,809  \\\\\n",
       "\\end{tabular}\n"
      ],
      "text/markdown": [
       "\n",
       "A data.frame: 15 x 4\n",
       "\n",
       "| <!--/--> | X &lt;chr&gt; | Gross.domestic.product.2018 &lt;chr&gt; | X.2 &lt;chr&gt; | X.3 &lt;chr&gt; |\n",
       "|---|---|---|---|---|\n",
       "| 5 | USA | 1  | United States      |  20,494,100  |\n",
       "| 6 | CHN | 2  | China              |  13,608,152  |\n",
       "| 7 | JPN | 3  | Japan              |  4,970,916   |\n",
       "| 8 | DEU | 4  | Germany            |  3,996,759   |\n",
       "| 9 | GBR | 5  | United Kingdom     |  2,825,208   |\n",
       "| 10 | FRA | 6  | France             |  2,777,535   |\n",
       "| 11 | IND | 7  | India              |  2,726,323   |\n",
       "| 12 | ITA | 8  | Italy              |  2,073,902   |\n",
       "| 13 | BRA | 9  | Brazil             |  1,868,626   |\n",
       "| 14 | CAN | 10 | Canada             |  1,712,510   |\n",
       "| 15 | RUS | 11 | Russian Federation |  1,657,554   |\n",
       "| 16 | KOR | 12 | Korea, Rep.        |  1,619,424   |\n",
       "| 17 | AUS | 13 | Australia          |  1,432,195   |\n",
       "| 18 | ESP | 14 | Spain              |  1,426,189   |\n",
       "| 19 | MEX | 15 | Mexico             |  1,223,809   |\n",
       "\n"
      ],
      "text/plain": [
       "   X   Gross.domestic.product.2018 X.2                X.3         \n",
       "5  USA 1                           United States       20,494,100 \n",
       "6  CHN 2                           China               13,608,152 \n",
       "7  JPN 3                           Japan               4,970,916  \n",
       "8  DEU 4                           Germany             3,996,759  \n",
       "9  GBR 5                           United Kingdom      2,825,208  \n",
       "10 FRA 6                           France              2,777,535  \n",
       "11 IND 7                           India               2,726,323  \n",
       "12 ITA 8                           Italy               2,073,902  \n",
       "13 BRA 9                           Brazil              1,868,626  \n",
       "14 CAN 10                          Canada              1,712,510  \n",
       "15 RUS 11                          Russian Federation  1,657,554  \n",
       "16 KOR 12                          Korea, Rep.         1,619,424  \n",
       "17 AUS 13                          Australia           1,432,195  \n",
       "18 ESP 14                          Spain               1,426,189  \n",
       "19 MEX 15                          Mexico              1,223,809  "
      ]
     },
     "metadata": {},
     "output_type": "display_data"
    }
   ],
   "source": [
    "\n",
    "\n",
    "GDP_ranking = read.csv(\"./Data/GDP.csv\",stringsAsFactors = F)\n",
    "GDP_ranking2 <- GDP_ranking[-1:-4,c(-3,-6)]\n",
    "str(GDP_ranking2)\n",
    "GDP_ranking15 <- head(GDP_ranking2,15)\n",
    "GDP_ranking15"
   ]
  },
  {
   "cell_type": "code",
   "execution_count": 36,
   "metadata": {
    "vscode": {
     "languageId": "r"
    }
   },
   "outputs": [
    {
     "data": {
      "text/html": [
       "<table class=\"dataframe\">\n",
       "<caption>A data.frame: 6 x 4</caption>\n",
       "<thead>\n",
       "\t<tr><th></th><th scope=col>Code</th><th scope=col>Ranking</th><th scope=col>Nation</th><th scope=col>GDP</th></tr>\n",
       "\t<tr><th></th><th scope=col>&lt;chr&gt;</th><th scope=col>&lt;chr&gt;</th><th scope=col>&lt;chr&gt;</th><th scope=col>&lt;chr&gt;</th></tr>\n",
       "</thead>\n",
       "<tbody>\n",
       "\t<tr><th scope=row>1</th><td>USA</td><td>1</td><td>United States </td><td> 20,494,100 </td></tr>\n",
       "\t<tr><th scope=row>2</th><td>CHN</td><td>2</td><td>China         </td><td> 13,608,152 </td></tr>\n",
       "\t<tr><th scope=row>3</th><td>JPN</td><td>3</td><td>Japan         </td><td> 4,970,916  </td></tr>\n",
       "\t<tr><th scope=row>4</th><td>DEU</td><td>4</td><td>Germany       </td><td> 3,996,759  </td></tr>\n",
       "\t<tr><th scope=row>5</th><td>GBR</td><td>5</td><td>United Kingdom</td><td> 2,825,208  </td></tr>\n",
       "\t<tr><th scope=row>6</th><td>FRA</td><td>6</td><td>France        </td><td> 2,777,535  </td></tr>\n",
       "</tbody>\n",
       "</table>\n"
      ],
      "text/latex": [
       "A data.frame: 6 x 4\n",
       "\\begin{tabular}{r|llll}\n",
       "  & Code & Ranking & Nation & GDP\\\\\n",
       "  & <chr> & <chr> & <chr> & <chr>\\\\\n",
       "\\hline\n",
       "\t1 & USA & 1 & United States  &  20,494,100 \\\\\n",
       "\t2 & CHN & 2 & China          &  13,608,152 \\\\\n",
       "\t3 & JPN & 3 & Japan          &  4,970,916  \\\\\n",
       "\t4 & DEU & 4 & Germany        &  3,996,759  \\\\\n",
       "\t5 & GBR & 5 & United Kingdom &  2,825,208  \\\\\n",
       "\t6 & FRA & 6 & France         &  2,777,535  \\\\\n",
       "\\end{tabular}\n"
      ],
      "text/markdown": [
       "\n",
       "A data.frame: 6 x 4\n",
       "\n",
       "| <!--/--> | Code &lt;chr&gt; | Ranking &lt;chr&gt; | Nation &lt;chr&gt; | GDP &lt;chr&gt; |\n",
       "|---|---|---|---|---|\n",
       "| 1 | USA | 1 | United States  |  20,494,100  |\n",
       "| 2 | CHN | 2 | China          |  13,608,152  |\n",
       "| 3 | JPN | 3 | Japan          |  4,970,916   |\n",
       "| 4 | DEU | 4 | Germany        |  3,996,759   |\n",
       "| 5 | GBR | 5 | United Kingdom |  2,825,208   |\n",
       "| 6 | FRA | 6 | France         |  2,777,535   |\n",
       "\n"
      ],
      "text/plain": [
       "  Code Ranking Nation         GDP         \n",
       "1 USA  1       United States   20,494,100 \n",
       "2 CHN  2       China           13,608,152 \n",
       "3 JPN  3       Japan           4,970,916  \n",
       "4 DEU  4       Germany         3,996,759  \n",
       "5 GBR  5       United Kingdom  2,825,208  \n",
       "6 FRA  6       France          2,777,535  "
      ]
     },
     "metadata": {},
     "output_type": "display_data"
    }
   ],
   "source": [
    "#컬럼 이름 정의 :  Code, Ranking,Nation,GDP\n",
    "colnames(GDP_ranking15) <- c(\"Code\",\"Ranking\",\"Nation\",\"GDP\")\n",
    "head(GDP_ranking15)"
   ]
  },
  {
   "cell_type": "code",
   "execution_count": 37,
   "metadata": {
    "vscode": {
     "languageId": "r"
    }
   },
   "outputs": [
    {
     "data": {
      "text/html": [
       "<table class=\"dataframe\">\n",
       "<caption>A data.frame: 6 x 4</caption>\n",
       "<thead>\n",
       "\t<tr><th></th><th scope=col>Code</th><th scope=col>Ranking</th><th scope=col>Nation</th><th scope=col>GDP</th></tr>\n",
       "\t<tr><th></th><th scope=col>&lt;chr&gt;</th><th scope=col>&lt;chr&gt;</th><th scope=col>&lt;chr&gt;</th><th scope=col>&lt;chr&gt;</th></tr>\n",
       "</thead>\n",
       "<tbody>\n",
       "\t<tr><th scope=row>1</th><td>USA</td><td>1</td><td>United States </td><td> 20,494,100 </td></tr>\n",
       "\t<tr><th scope=row>2</th><td>CHN</td><td>2</td><td>China         </td><td> 13,608,152 </td></tr>\n",
       "\t<tr><th scope=row>3</th><td>JPN</td><td>3</td><td>Japan         </td><td> 4,970,916  </td></tr>\n",
       "\t<tr><th scope=row>4</th><td>DEU</td><td>4</td><td>Germany       </td><td> 3,996,759  </td></tr>\n",
       "\t<tr><th scope=row>5</th><td>GBR</td><td>5</td><td>United Kingdom</td><td> 2,825,208  </td></tr>\n",
       "\t<tr><th scope=row>6</th><td>FRA</td><td>6</td><td>France        </td><td> 2,777,535  </td></tr>\n",
       "</tbody>\n",
       "</table>\n"
      ],
      "text/latex": [
       "A data.frame: 6 x 4\n",
       "\\begin{tabular}{r|llll}\n",
       "  & Code & Ranking & Nation & GDP\\\\\n",
       "  & <chr> & <chr> & <chr> & <chr>\\\\\n",
       "\\hline\n",
       "\t1 & USA & 1 & United States  &  20,494,100 \\\\\n",
       "\t2 & CHN & 2 & China          &  13,608,152 \\\\\n",
       "\t3 & JPN & 3 & Japan          &  4,970,916  \\\\\n",
       "\t4 & DEU & 4 & Germany        &  3,996,759  \\\\\n",
       "\t5 & GBR & 5 & United Kingdom &  2,825,208  \\\\\n",
       "\t6 & FRA & 6 & France         &  2,777,535  \\\\\n",
       "\\end{tabular}\n"
      ],
      "text/markdown": [
       "\n",
       "A data.frame: 6 x 4\n",
       "\n",
       "| <!--/--> | Code &lt;chr&gt; | Ranking &lt;chr&gt; | Nation &lt;chr&gt; | GDP &lt;chr&gt; |\n",
       "|---|---|---|---|---|\n",
       "| 1 | USA | 1 | United States  |  20,494,100  |\n",
       "| 2 | CHN | 2 | China          |  13,608,152  |\n",
       "| 3 | JPN | 3 | Japan          |  4,970,916   |\n",
       "| 4 | DEU | 4 | Germany        |  3,996,759   |\n",
       "| 5 | GBR | 5 | United Kingdom |  2,825,208   |\n",
       "| 6 | FRA | 6 | France         |  2,777,535   |\n",
       "\n"
      ],
      "text/plain": [
       "  Code Ranking Nation         GDP         \n",
       "1 USA  1       United States   20,494,100 \n",
       "2 CHN  2       China           13,608,152 \n",
       "3 JPN  3       Japan           4,970,916  \n",
       "4 DEU  4       Germany         3,996,759  \n",
       "5 GBR  5       United Kingdom  2,825,208  \n",
       "6 FRA  6       France          2,777,535  "
      ]
     },
     "metadata": {},
     "output_type": "display_data"
    }
   ],
   "source": [
    "head(GDP_ranking15)"
   ]
  },
  {
   "cell_type": "code",
   "execution_count": 38,
   "metadata": {
    "vscode": {
     "languageId": "r"
    }
   },
   "outputs": [
    {
     "data": {
      "text/html": [
       "<table class=\"dataframe\">\n",
       "<caption>A data.frame: 15 x 4</caption>\n",
       "<thead>\n",
       "\t<tr><th scope=col>Code</th><th scope=col>Ranking</th><th scope=col>Nation</th><th scope=col>GDP</th></tr>\n",
       "\t<tr><th scope=col>&lt;chr&gt;</th><th scope=col>&lt;chr&gt;</th><th scope=col>&lt;chr&gt;</th><th scope=col>&lt;chr&gt;</th></tr>\n",
       "</thead>\n",
       "<tbody>\n",
       "\t<tr><td>USA</td><td>1 </td><td>United States     </td><td> 20,494,100 </td></tr>\n",
       "\t<tr><td>CHN</td><td>2 </td><td>China             </td><td> 13,608,152 </td></tr>\n",
       "\t<tr><td>JPN</td><td>3 </td><td>Japan             </td><td> 4,970,916  </td></tr>\n",
       "\t<tr><td>DEU</td><td>4 </td><td>Germany           </td><td> 3,996,759  </td></tr>\n",
       "\t<tr><td>GBR</td><td>5 </td><td>United Kingdom    </td><td> 2,825,208  </td></tr>\n",
       "\t<tr><td>FRA</td><td>6 </td><td>France            </td><td> 2,777,535  </td></tr>\n",
       "\t<tr><td>IND</td><td>7 </td><td>India             </td><td> 2,726,323  </td></tr>\n",
       "\t<tr><td>ITA</td><td>8 </td><td>Italy             </td><td> 2,073,902  </td></tr>\n",
       "\t<tr><td>BRA</td><td>9 </td><td>Brazil            </td><td> 1,868,626  </td></tr>\n",
       "\t<tr><td>CAN</td><td>10</td><td>Canada            </td><td> 1,712,510  </td></tr>\n",
       "\t<tr><td>RUS</td><td>11</td><td>Russian Federation</td><td> 1,657,554  </td></tr>\n",
       "\t<tr><td>KOR</td><td>12</td><td>Korea, Rep.       </td><td> 1,619,424  </td></tr>\n",
       "\t<tr><td>AUS</td><td>13</td><td>Australia         </td><td> 1,432,195  </td></tr>\n",
       "\t<tr><td>ESP</td><td>14</td><td>Spain             </td><td> 1,426,189  </td></tr>\n",
       "\t<tr><td>MEX</td><td>15</td><td>Mexico            </td><td> 1,223,809  </td></tr>\n",
       "</tbody>\n",
       "</table>\n"
      ],
      "text/latex": [
       "A data.frame: 15 x 4\n",
       "\\begin{tabular}{llll}\n",
       " Code & Ranking & Nation & GDP\\\\\n",
       " <chr> & <chr> & <chr> & <chr>\\\\\n",
       "\\hline\n",
       "\t USA & 1  & United States      &  20,494,100 \\\\\n",
       "\t CHN & 2  & China              &  13,608,152 \\\\\n",
       "\t JPN & 3  & Japan              &  4,970,916  \\\\\n",
       "\t DEU & 4  & Germany            &  3,996,759  \\\\\n",
       "\t GBR & 5  & United Kingdom     &  2,825,208  \\\\\n",
       "\t FRA & 6  & France             &  2,777,535  \\\\\n",
       "\t IND & 7  & India              &  2,726,323  \\\\\n",
       "\t ITA & 8  & Italy              &  2,073,902  \\\\\n",
       "\t BRA & 9  & Brazil             &  1,868,626  \\\\\n",
       "\t CAN & 10 & Canada             &  1,712,510  \\\\\n",
       "\t RUS & 11 & Russian Federation &  1,657,554  \\\\\n",
       "\t KOR & 12 & Korea, Rep.        &  1,619,424  \\\\\n",
       "\t AUS & 13 & Australia          &  1,432,195  \\\\\n",
       "\t ESP & 14 & Spain              &  1,426,189  \\\\\n",
       "\t MEX & 15 & Mexico             &  1,223,809  \\\\\n",
       "\\end{tabular}\n"
      ],
      "text/markdown": [
       "\n",
       "A data.frame: 15 x 4\n",
       "\n",
       "| Code &lt;chr&gt; | Ranking &lt;chr&gt; | Nation &lt;chr&gt; | GDP &lt;chr&gt; |\n",
       "|---|---|---|---|\n",
       "| USA | 1  | United States      |  20,494,100  |\n",
       "| CHN | 2  | China              |  13,608,152  |\n",
       "| JPN | 3  | Japan              |  4,970,916   |\n",
       "| DEU | 4  | Germany            |  3,996,759   |\n",
       "| GBR | 5  | United Kingdom     |  2,825,208   |\n",
       "| FRA | 6  | France             |  2,777,535   |\n",
       "| IND | 7  | India              |  2,726,323   |\n",
       "| ITA | 8  | Italy              |  2,073,902   |\n",
       "| BRA | 9  | Brazil             |  1,868,626   |\n",
       "| CAN | 10 | Canada             |  1,712,510   |\n",
       "| RUS | 11 | Russian Federation |  1,657,554   |\n",
       "| KOR | 12 | Korea, Rep.        |  1,619,424   |\n",
       "| AUS | 13 | Australia          |  1,432,195   |\n",
       "| ESP | 14 | Spain              |  1,426,189   |\n",
       "| MEX | 15 | Mexico             |  1,223,809   |\n",
       "\n"
      ],
      "text/plain": [
       "   Code Ranking Nation             GDP         \n",
       "1  USA  1       United States       20,494,100 \n",
       "2  CHN  2       China               13,608,152 \n",
       "3  JPN  3       Japan               4,970,916  \n",
       "4  DEU  4       Germany             3,996,759  \n",
       "5  GBR  5       United Kingdom      2,825,208  \n",
       "6  FRA  6       France              2,777,535  \n",
       "7  IND  7       India               2,726,323  \n",
       "8  ITA  8       Italy               2,073,902  \n",
       "9  BRA  9       Brazil              1,868,626  \n",
       "10 CAN  10      Canada              1,712,510  \n",
       "11 RUS  11      Russian Federation  1,657,554  \n",
       "12 KOR  12      Korea, Rep.         1,619,424  \n",
       "13 AUS  13      Australia           1,432,195  \n",
       "14 ESP  14      Spain               1,426,189  \n",
       "15 MEX  15      Mexico              1,223,809  "
      ]
     },
     "metadata": {},
     "output_type": "display_data"
    }
   ],
   "source": [
    "\n",
    "GDP_ranking15"
   ]
  },
  {
   "cell_type": "code",
   "execution_count": 22,
   "metadata": {
    "vscode": {
     "languageId": "r"
    }
   },
   "outputs": [],
   "source": [
    "rownames(GDP_ranking15) <- c()"
   ]
  },
  {
   "cell_type": "code",
   "execution_count": 39,
   "metadata": {
    "vscode": {
     "languageId": "r"
    }
   },
   "outputs": [
    {
     "data": {
      "text/html": [
       "<table class=\"dataframe\">\n",
       "<caption>A data.frame: 6 x 4</caption>\n",
       "<thead>\n",
       "\t<tr><th></th><th scope=col>Code</th><th scope=col>Ranking</th><th scope=col>Nation</th><th scope=col>GDP</th></tr>\n",
       "\t<tr><th></th><th scope=col>&lt;chr&gt;</th><th scope=col>&lt;chr&gt;</th><th scope=col>&lt;chr&gt;</th><th scope=col>&lt;chr&gt;</th></tr>\n",
       "</thead>\n",
       "<tbody>\n",
       "\t<tr><th scope=row>1</th><td>USA</td><td>1</td><td>United States </td><td> 20,494,100 </td></tr>\n",
       "\t<tr><th scope=row>2</th><td>CHN</td><td>2</td><td>China         </td><td> 13,608,152 </td></tr>\n",
       "\t<tr><th scope=row>3</th><td>JPN</td><td>3</td><td>Japan         </td><td> 4,970,916  </td></tr>\n",
       "\t<tr><th scope=row>4</th><td>DEU</td><td>4</td><td>Germany       </td><td> 3,996,759  </td></tr>\n",
       "\t<tr><th scope=row>5</th><td>GBR</td><td>5</td><td>United Kingdom</td><td> 2,825,208  </td></tr>\n",
       "\t<tr><th scope=row>6</th><td>FRA</td><td>6</td><td>France        </td><td> 2,777,535  </td></tr>\n",
       "</tbody>\n",
       "</table>\n"
      ],
      "text/latex": [
       "A data.frame: 6 x 4\n",
       "\\begin{tabular}{r|llll}\n",
       "  & Code & Ranking & Nation & GDP\\\\\n",
       "  & <chr> & <chr> & <chr> & <chr>\\\\\n",
       "\\hline\n",
       "\t1 & USA & 1 & United States  &  20,494,100 \\\\\n",
       "\t2 & CHN & 2 & China          &  13,608,152 \\\\\n",
       "\t3 & JPN & 3 & Japan          &  4,970,916  \\\\\n",
       "\t4 & DEU & 4 & Germany        &  3,996,759  \\\\\n",
       "\t5 & GBR & 5 & United Kingdom &  2,825,208  \\\\\n",
       "\t6 & FRA & 6 & France         &  2,777,535  \\\\\n",
       "\\end{tabular}\n"
      ],
      "text/markdown": [
       "\n",
       "A data.frame: 6 x 4\n",
       "\n",
       "| <!--/--> | Code &lt;chr&gt; | Ranking &lt;chr&gt; | Nation &lt;chr&gt; | GDP &lt;chr&gt; |\n",
       "|---|---|---|---|---|\n",
       "| 1 | USA | 1 | United States  |  20,494,100  |\n",
       "| 2 | CHN | 2 | China          |  13,608,152  |\n",
       "| 3 | JPN | 3 | Japan          |  4,970,916   |\n",
       "| 4 | DEU | 4 | Germany        |  3,996,759   |\n",
       "| 5 | GBR | 5 | United Kingdom |  2,825,208   |\n",
       "| 6 | FRA | 6 | France         |  2,777,535   |\n",
       "\n"
      ],
      "text/plain": [
       "  Code Ranking Nation         GDP         \n",
       "1 USA  1       United States   20,494,100 \n",
       "2 CHN  2       China           13,608,152 \n",
       "3 JPN  3       Japan           4,970,916  \n",
       "4 DEU  4       Germany         3,996,759  \n",
       "5 GBR  5       United Kingdom  2,825,208  \n",
       "6 FRA  6       France          2,777,535  "
      ]
     },
     "metadata": {},
     "output_type": "display_data"
    }
   ],
   "source": [
    "head(GDP_ranking15)"
   ]
  },
  {
   "cell_type": "code",
   "execution_count": 29,
   "metadata": {
    "vscode": {
     "languageId": "r"
    }
   },
   "outputs": [
    {
     "name": "stderr",
     "output_type": "stream",
     "text": [
      "\n",
      "다음의 패키지를 부착합니다: ‘stringr’\n",
      "\n",
      "\n",
      "The following object is masked _by_ ‘.GlobalEnv’:\n",
      "\n",
      "    fruit\n",
      "\n",
      "\n"
     ]
    },
    {
     "name": "stdout",
     "output_type": "stream",
     "text": [
      "\n",
      "다운로드된 바이너리 패키지들은 다음의 위치에 있습니다\n",
      "\t/var/folders/ws/19pvrmj569x7h95xb240729r0000gn/T//RtmpOmo4b4/downloaded_packages\n"
     ]
    }
   ],
   "source": [
    "library(stringr)\n",
    "install.packages(\"stringr\")"
   ]
  },
  {
   "cell_type": "code",
   "execution_count": 73,
   "metadata": {
    "vscode": {
     "languageId": "r"
    }
   },
   "outputs": [
    {
     "ename": "ERROR",
     "evalue": "Error in parse(text = x, srcfile = src): <text>:2:49: 예상하지 못한 입력입니다.\n1: options(warn = -1)\n2: options(repr.plot.width=15, repr.plot.height=9) ​\n                                                   ^\n",
     "output_type": "error",
     "traceback": [
      "Error in parse(text = x, srcfile = src): <text>:2:49: 예상하지 못한 입력입니다.\n1: options(warn = -1)\n2: options(repr.plot.width=15, repr.plot.height=9) ​\n                                                   ^\nTraceback:\n"
     ]
    }
   ],
   "source": [
    "options(warn = -1)\n",
    "options(repr.plot.width=15, repr.plot.height=9) ​"
   ]
  },
  {
   "cell_type": "code",
   "execution_count": 74,
   "metadata": {
    "vscode": {
     "languageId": "r"
    }
   },
   "outputs": [
    {
     "data": {
      "text/html": [
       "<style>\n",
       ".list-inline {list-style: none; margin:0; padding: 0}\n",
       ".list-inline>li {display: inline-block}\n",
       ".list-inline>li:not(:last-child)::after {content: \"\\00b7\"; padding: 0 .5ex}\n",
       "</style>\n",
       "<ol class=list-inline><li>20494100</li><li>13608152</li><li>4970916</li><li>3996759</li><li>2825208</li><li>2777535</li><li>2726323</li><li>2073902</li><li>1868626</li><li>1712510</li><li>1657554</li><li>1619424</li><li>1432195</li><li>1426189</li><li>1223809</li></ol>\n"
      ],
      "text/latex": [
       "\\begin{enumerate*}\n",
       "\\item 20494100\n",
       "\\item 13608152\n",
       "\\item 4970916\n",
       "\\item 3996759\n",
       "\\item 2825208\n",
       "\\item 2777535\n",
       "\\item 2726323\n",
       "\\item 2073902\n",
       "\\item 1868626\n",
       "\\item 1712510\n",
       "\\item 1657554\n",
       "\\item 1619424\n",
       "\\item 1432195\n",
       "\\item 1426189\n",
       "\\item 1223809\n",
       "\\end{enumerate*}\n"
      ],
      "text/markdown": [
       "1. 20494100\n",
       "2. 13608152\n",
       "3. 4970916\n",
       "4. 3996759\n",
       "5. 2825208\n",
       "6. 2777535\n",
       "7. 2726323\n",
       "8. 2073902\n",
       "9. 1868626\n",
       "10. 1712510\n",
       "11. 1657554\n",
       "12. 1619424\n",
       "13. 1432195\n",
       "14. 1426189\n",
       "15. 1223809\n",
       "\n",
       "\n"
      ],
      "text/plain": [
       " [1] 20494100 13608152  4970916  3996759  2825208  2777535  2726323  2073902\n",
       " [9]  1868626  1712510  1657554  1619424  1432195  1426189  1223809"
      ]
     },
     "metadata": {},
     "output_type": "display_data"
    },
    {
     "data": {
      "image/png": "[encoded data removed]",
      "text/plain": [
       "Plot with title “2018년 GDP 세계 15위 국가”"
      ]
     },
     "metadata": {
      "image/png": {
       "height": 540,
       "width": 900
      }
     },
     "output_type": "display_data"
    }
   ],
   "source": [
    "GDP_ranking15$GDP\n",
    "par(family=\"AppleGothic\",bg='white')\n",
    "GDP_ranking15$GDP <- as.numeric(str_replace_all(GDP_ranking15$GDP, \",\", \"\"))\n",
    "barplot(GDP_ranking15$GDP/1000,\n",
    "ylim = c(0,25000),\n",
    "main = \"2018년 GDP 세계 15위 국가\",\n",
    "xlab =\"국가(nation)\",  #x축이름\n",
    "ylab =\"단위(달러)\",  #y축이름\n",
    "col = c(\"red\",\"red\",rep(\"blue\",9),\"red\",rep(\"blue\",3)),\n",
    "names = GDP_ranking15$Code)"
   ]
  }
 ],
 "metadata": {
  "kernelspec": {
   "display_name": "R",
   "language": "R",
   "name": "r"
  },
  "language_info": {
   "codemirror_mode": "r",
   "file_extension": ".r",
   "mimetype": "text/x-r-source",
   "name": "R",
   "pygments_lexer": "r",
   "version": "4.3.3"
  }
 },
 "nbformat": 4,
 "nbformat_minor": 2
}
