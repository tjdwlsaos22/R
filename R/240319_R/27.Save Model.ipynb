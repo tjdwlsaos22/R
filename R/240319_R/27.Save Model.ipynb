{
 "cells": [
  {
   "cell_type": "code",
   "execution_count": 1,
   "metadata": {
    "vscode": {
     "languageId": "r"
    }
   },
   "outputs": [
    {
     "name": "stderr",
     "output_type": "stream",
     "text": [
      "randomForest 4.7-1.1\n",
      "\n",
      "Type rfNews() to see new features/changes/bug fixes.\n",
      "\n"
     ]
    }
   ],
   "source": [
    "library(randomForest())"
   ]
  },
  {
   "cell_type": "code",
   "execution_count": 2,
   "metadata": {
    "vscode": {
     "languageId": "r"
    }
   },
   "outputs": [],
   "source": [
    "set.seed(1234)\n",
    "samp <-c(sample(1:50,35),sample(51:100,35),sample(101:150,35))\n",
    "iris.tr <- iris[samp,]\n",
    "iris.test <- iris[-samp,]"
   ]
  },
  {
   "cell_type": "code",
   "execution_count": 3,
   "metadata": {
    "vscode": {
     "languageId": "r"
    }
   },
   "outputs": [
    {
     "data": {
      "text/html": [
       "0.933333333333333"
      ],
      "text/latex": [
       "0.933333333333333"
      ],
      "text/markdown": [
       "0.933333333333333"
      ],
      "text/plain": [
       "[1] 0.9333333"
      ]
     },
     "metadata": {},
     "output_type": "display_data"
    },
    {
     "data": {
      "text/plain": [
       "            y\n",
       "pred         setosa versicolor virginica\n",
       "  setosa         15          0         0\n",
       "  versicolor      0         12         0\n",
       "  virginica       0          3        15"
      ]
     },
     "metadata": {},
     "output_type": "display_data"
    }
   ],
   "source": [
    "rf <-randomForest(Species ~ .,data=iris.tr,ntree=100)\n",
    "x<-subset(iris.test,select = -Species)\n",
    "y<- iris.test$Species\n",
    "pred <- predict(rf,x)\n",
    "mean(pred==y)\n",
    "table(pred,y)"
   ]
  },
  {
   "cell_type": "code",
   "execution_count": 5,
   "metadata": {
    "vscode": {
     "languageId": "r"
    }
   },
   "outputs": [],
   "source": [
    "# 학습 내용 저장하기\n",
    "saveRDS(rf,\"./Data/randomForest_iris.rdf\")"
   ]
  },
  {
   "cell_type": "code",
   "execution_count": null,
   "metadata": {
    "vscode": {
     "languageId": "r"
    }
   },
   "outputs": [],
   "source": []
  }
 ],
 "metadata": {
  "kernelspec": {
   "display_name": "R",
   "language": "R",
   "name": "r"
  },
  "language_info": {
   "codemirror_mode": "r",
   "file_extension": ".r",
   "mimetype": "text/x-r-source",
   "name": "R",
   "pygments_lexer": "r",
   "version": "4.3.3"
  }
 },
 "nbformat": 4,
 "nbformat_minor": 2
}
