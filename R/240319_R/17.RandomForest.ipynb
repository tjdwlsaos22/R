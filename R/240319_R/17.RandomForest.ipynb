{
 "cells": [
  {
   "cell_type": "markdown",
   "metadata": {},
   "source": [
    "# RandomForest"
   ]
  },
  {
   "cell_type": "code",
   "execution_count": 1,
   "metadata": {
    "vscode": {
     "languageId": "r"
    }
   },
   "outputs": [
    {
     "data": {
      "text/html": [
       "'ko_KR.UTF-8/ko_KR.UTF-8/ko_KR.UTF-8/C/ko_KR.UTF-8/C'"
      ],
      "text/latex": [
       "'ko\\_KR.UTF-8/ko\\_KR.UTF-8/ko\\_KR.UTF-8/C/ko\\_KR.UTF-8/C'"
      ],
      "text/markdown": [
       "'ko_KR.UTF-8/ko_KR.UTF-8/ko_KR.UTF-8/C/ko_KR.UTF-8/C'"
      ],
      "text/plain": [
       "[1] \"ko_KR.UTF-8/ko_KR.UTF-8/ko_KR.UTF-8/C/ko_KR.UTF-8/C\""
      ]
     },
     "metadata": {},
     "output_type": "display_data"
    }
   ],
   "source": [
    "options(warn = -1)\n",
    "options(repr.plot.width=15, repr.plot.height=9) \n",
    "Sys.setlocale(category = \"LC_ALL\", locale = \"ko_KR.UTF-8\")"
   ]
  },
  {
   "cell_type": "code",
   "execution_count": 7,
   "metadata": {
    "vscode": {
     "languageId": "r"
    }
   },
   "outputs": [],
   "source": [
    "# 학습용, 검증용 분류\n",
    "set.seed(1234)\n",
    "library(caret)\n",
    "samp <-createDataPartition(iris$Species,p=0.7,list=F)\n",
    "\n",
    "data.tr <- iris[samp,]\n",
    "data.test <-iris[-samp,]"
   ]
  },
  {
   "cell_type": "code",
   "execution_count": 8,
   "metadata": {
    "vscode": {
     "languageId": "r"
    }
   },
   "outputs": [],
   "source": [
    "x <- subset(data.test,select = -Species)\n",
    "y <- data.test$Species"
   ]
  },
  {
   "cell_type": "code",
   "execution_count": 9,
   "metadata": {
    "vscode": {
     "languageId": "r"
    }
   },
   "outputs": [
    {
     "name": "stdout",
     "output_type": "stream",
     "text": [
      "\n",
      "다운로드된 바이너리 패키지들은 다음의 위치에 있습니다\n",
      "\t/var/folders/ws/19pvrmj569x7h95xb240729r0000gn/T//Rtmp3gWvnq/downloaded_packages\n"
     ]
    }
   ],
   "source": [
    "#install.packages('randomForest')"
   ]
  },
  {
   "cell_type": "code",
   "execution_count": 10,
   "metadata": {
    "vscode": {
     "languageId": "r"
    }
   },
   "outputs": [
    {
     "name": "stderr",
     "output_type": "stream",
     "text": [
      "randomForest 4.7-1.1\n",
      "\n",
      "Type rfNews() to see new features/changes/bug fixes.\n",
      "\n",
      "\n",
      "다음의 패키지를 부착합니다: ‘randomForest’\n",
      "\n",
      "\n",
      "The following object is masked from ‘package:ggplot2’:\n",
      "\n",
      "    margin\n",
      "\n",
      "\n"
     ]
    }
   ],
   "source": [
    "library(randomForest)"
   ]
  },
  {
   "cell_type": "code",
   "execution_count": 11,
   "metadata": {
    "vscode": {
     "languageId": "r"
    }
   },
   "outputs": [],
   "source": [
    "rf <- randomForest(Species~.,data=data.tr,ntree = 100)"
   ]
  },
  {
   "cell_type": "code",
   "execution_count": 13,
   "metadata": {
    "vscode": {
     "languageId": "r"
    }
   },
   "outputs": [
    {
     "data": {
      "text/html": [
       "<style>\n",
       ".dl-inline {width: auto; margin:0; padding: 0}\n",
       ".dl-inline>dt, .dl-inline>dd {float: none; width: auto; display: inline-block}\n",
       ".dl-inline>dt::after {content: \":\\0020\"; padding-right: .5ex}\n",
       ".dl-inline>dt:not(:first-of-type) {padding-left: .5ex}\n",
       "</style><dl class=dl-inline><dt>1</dt><dd>setosa</dd><dt>7</dt><dd>setosa</dd><dt>10</dt><dd>setosa</dd><dt>11</dt><dd>setosa</dd><dt>13</dt><dd>setosa</dd><dt>17</dt><dd>setosa</dd><dt>18</dt><dd>setosa</dd><dt>19</dt><dd>setosa</dd><dt>23</dt><dd>setosa</dd><dt>25</dt><dd>setosa</dd><dt>27</dt><dd>setosa</dd><dt>33</dt><dd>setosa</dd><dt>36</dt><dd>setosa</dd><dt>43</dt><dd>setosa</dd><dt>45</dt><dd>setosa</dd><dt>51</dt><dd>versicolor</dd><dt>54</dt><dd>versicolor</dd><dt>55</dt><dd>versicolor</dd><dt>57</dt><dd>versicolor</dd><dt>61</dt><dd>versicolor</dd><dt>64</dt><dd>versicolor</dd><dt>70</dt><dd>versicolor</dd><dt>71</dt><dd>virginica</dd><dt>74</dt><dd>versicolor</dd><dt>77</dt><dd>versicolor</dd><dt>78</dt><dd>virginica</dd><dt>81</dt><dd>versicolor</dd><dt>83</dt><dd>versicolor</dd><dt>84</dt><dd>virginica</dd><dt>94</dt><dd>versicolor</dd><dt>105</dt><dd>virginica</dd><dt>114</dt><dd>virginica</dd><dt>115</dt><dd>virginica</dd><dt>118</dt><dd>virginica</dd><dt>123</dt><dd>virginica</dd><dt>125</dt><dd>virginica</dd><dt>134</dt><dd>virginica</dd><dt>138</dt><dd>virginica</dd><dt>140</dt><dd>virginica</dd><dt>142</dt><dd>virginica</dd><dt>143</dt><dd>virginica</dd><dt>145</dt><dd>virginica</dd><dt>148</dt><dd>virginica</dd><dt>149</dt><dd>virginica</dd><dt>150</dt><dd>virginica</dd></dl>\n",
       "\n",
       "<details>\n",
       "\t<summary style=display:list-item;cursor:pointer>\n",
       "\t\t<strong>Levels</strong>:\n",
       "\t</summary>\n",
       "\t<style>\n",
       "\t.list-inline {list-style: none; margin:0; padding: 0}\n",
       "\t.list-inline>li {display: inline-block}\n",
       "\t.list-inline>li:not(:last-child)::after {content: \"\\00b7\"; padding: 0 .5ex}\n",
       "\t</style>\n",
       "\t<ol class=list-inline><li>'setosa'</li><li>'versicolor'</li><li>'virginica'</li></ol>\n",
       "</details>"
      ],
      "text/latex": [
       "\\begin{description*}\n",
       "\\item[1] setosa\n",
       "\\item[7] setosa\n",
       "\\item[10] setosa\n",
       "\\item[11] setosa\n",
       "\\item[13] setosa\n",
       "\\item[17] setosa\n",
       "\\item[18] setosa\n",
       "\\item[19] setosa\n",
       "\\item[23] setosa\n",
       "\\item[25] setosa\n",
       "\\item[27] setosa\n",
       "\\item[33] setosa\n",
       "\\item[36] setosa\n",
       "\\item[43] setosa\n",
       "\\item[45] setosa\n",
       "\\item[51] versicolor\n",
       "\\item[54] versicolor\n",
       "\\item[55] versicolor\n",
       "\\item[57] versicolor\n",
       "\\item[61] versicolor\n",
       "\\item[64] versicolor\n",
       "\\item[70] versicolor\n",
       "\\item[71] virginica\n",
       "\\item[74] versicolor\n",
       "\\item[77] versicolor\n",
       "\\item[78] virginica\n",
       "\\item[81] versicolor\n",
       "\\item[83] versicolor\n",
       "\\item[84] virginica\n",
       "\\item[94] versicolor\n",
       "\\item[105] virginica\n",
       "\\item[114] virginica\n",
       "\\item[115] virginica\n",
       "\\item[118] virginica\n",
       "\\item[123] virginica\n",
       "\\item[125] virginica\n",
       "\\item[134] virginica\n",
       "\\item[138] virginica\n",
       "\\item[140] virginica\n",
       "\\item[142] virginica\n",
       "\\item[143] virginica\n",
       "\\item[145] virginica\n",
       "\\item[148] virginica\n",
       "\\item[149] virginica\n",
       "\\item[150] virginica\n",
       "\\end{description*}\n",
       "\n",
       "\\emph{Levels}: \\begin{enumerate*}\n",
       "\\item 'setosa'\n",
       "\\item 'versicolor'\n",
       "\\item 'virginica'\n",
       "\\end{enumerate*}\n"
      ],
      "text/markdown": [
       "1\n",
       ":   setosa7\n",
       ":   setosa10\n",
       ":   setosa11\n",
       ":   setosa13\n",
       ":   setosa17\n",
       ":   setosa18\n",
       ":   setosa19\n",
       ":   setosa23\n",
       ":   setosa25\n",
       ":   setosa27\n",
       ":   setosa33\n",
       ":   setosa36\n",
       ":   setosa43\n",
       ":   setosa45\n",
       ":   setosa51\n",
       ":   versicolor54\n",
       ":   versicolor55\n",
       ":   versicolor57\n",
       ":   versicolor61\n",
       ":   versicolor64\n",
       ":   versicolor70\n",
       ":   versicolor71\n",
       ":   virginica74\n",
       ":   versicolor77\n",
       ":   versicolor78\n",
       ":   virginica81\n",
       ":   versicolor83\n",
       ":   versicolor84\n",
       ":   virginica94\n",
       ":   versicolor105\n",
       ":   virginica114\n",
       ":   virginica115\n",
       ":   virginica118\n",
       ":   virginica123\n",
       ":   virginica125\n",
       ":   virginica134\n",
       ":   virginica138\n",
       ":   virginica140\n",
       ":   virginica142\n",
       ":   virginica143\n",
       ":   virginica145\n",
       ":   virginica148\n",
       ":   virginica149\n",
       ":   virginica150\n",
       ":   virginica\n",
       "\n",
       "\n",
       "**Levels**: 1. 'setosa'\n",
       "2. 'versicolor'\n",
       "3. 'virginica'\n",
       "\n",
       "\n"
      ],
      "text/plain": [
       "         1          7         10         11         13         17         18 \n",
       "    setosa     setosa     setosa     setosa     setosa     setosa     setosa \n",
       "        19         23         25         27         33         36         43 \n",
       "    setosa     setosa     setosa     setosa     setosa     setosa     setosa \n",
       "        45         51         54         55         57         61         64 \n",
       "    setosa versicolor versicolor versicolor versicolor versicolor versicolor \n",
       "        70         71         74         77         78         81         83 \n",
       "versicolor  virginica versicolor versicolor  virginica versicolor versicolor \n",
       "        84         94        105        114        115        118        123 \n",
       " virginica versicolor  virginica  virginica  virginica  virginica  virginica \n",
       "       125        134        138        140        142        143        145 \n",
       " virginica  virginica  virginica  virginica  virginica  virginica  virginica \n",
       "       148        149        150 \n",
       " virginica  virginica  virginica \n",
       "Levels: setosa versicolor virginica"
      ]
     },
     "metadata": {},
     "output_type": "display_data"
    }
   ],
   "source": [
    "pred <- predict(rf, x)\n",
    "pred"
   ]
  },
  {
   "cell_type": "code",
   "execution_count": 14,
   "metadata": {
    "vscode": {
     "languageId": "r"
    }
   },
   "outputs": [
    {
     "data": {
      "text/html": [
       "0.933333333333333"
      ],
      "text/latex": [
       "0.933333333333333"
      ],
      "text/markdown": [
       "0.933333333333333"
      ],
      "text/plain": [
       "[1] 0.9333333"
      ]
     },
     "metadata": {},
     "output_type": "display_data"
    }
   ],
   "source": [
    "mean(pred==y)"
   ]
  },
  {
   "cell_type": "code",
   "execution_count": 15,
   "metadata": {
    "vscode": {
     "languageId": "r"
    }
   },
   "outputs": [
    {
     "data": {
      "text/plain": [
       "            y\n",
       "pred         setosa versicolor virginica\n",
       "  setosa         15          0         0\n",
       "  versicolor      0         12         0\n",
       "  virginica       0          3        15"
      ]
     },
     "metadata": {},
     "output_type": "display_data"
    }
   ],
   "source": [
    "table(pred,y)"
   ]
  },
  {
   "cell_type": "code",
   "execution_count": null,
   "metadata": {
    "vscode": {
     "languageId": "r"
    }
   },
   "outputs": [],
   "source": []
  }
 ],
 "metadata": {
  "kernelspec": {
   "display_name": "R",
   "language": "R",
   "name": "r"
  },
  "language_info": {
   "codemirror_mode": "r",
   "file_extension": ".r",
   "mimetype": "text/x-r-source",
   "name": "R",
   "pygments_lexer": "r",
   "version": "4.3.3"
  }
 },
 "nbformat": 4,
 "nbformat_minor": 2
}
