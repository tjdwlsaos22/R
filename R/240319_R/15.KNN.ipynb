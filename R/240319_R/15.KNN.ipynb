{
 "cells": [
  {
   "cell_type": "markdown",
   "metadata": {},
   "source": []
  },
  {
   "cell_type": "code",
   "execution_count": 1,
   "metadata": {
    "vscode": {
     "languageId": "r"
    }
   },
   "outputs": [
    {
     "data": {
      "text/html": [
       "<table class=\"dataframe\">\n",
       "<caption>A data.frame: 6 x 5</caption>\n",
       "<thead>\n",
       "\t<tr><th></th><th scope=col>Sepal.Length</th><th scope=col>Sepal.Width</th><th scope=col>Petal.Length</th><th scope=col>Petal.Width</th><th scope=col>Species</th></tr>\n",
       "\t<tr><th></th><th scope=col>&lt;dbl&gt;</th><th scope=col>&lt;dbl&gt;</th><th scope=col>&lt;dbl&gt;</th><th scope=col>&lt;dbl&gt;</th><th scope=col>&lt;fct&gt;</th></tr>\n",
       "</thead>\n",
       "<tbody>\n",
       "\t<tr><th scope=row>1</th><td>5.1</td><td>3.5</td><td>1.4</td><td>0.2</td><td>setosa</td></tr>\n",
       "\t<tr><th scope=row>2</th><td>4.9</td><td>3.0</td><td>1.4</td><td>0.2</td><td>setosa</td></tr>\n",
       "\t<tr><th scope=row>3</th><td>4.7</td><td>3.2</td><td>1.3</td><td>0.2</td><td>setosa</td></tr>\n",
       "\t<tr><th scope=row>4</th><td>4.6</td><td>3.1</td><td>1.5</td><td>0.2</td><td>setosa</td></tr>\n",
       "\t<tr><th scope=row>5</th><td>5.0</td><td>3.6</td><td>1.4</td><td>0.2</td><td>setosa</td></tr>\n",
       "\t<tr><th scope=row>6</th><td>5.4</td><td>3.9</td><td>1.7</td><td>0.4</td><td>setosa</td></tr>\n",
       "</tbody>\n",
       "</table>\n"
      ],
      "text/latex": [
       "A data.frame: 6 x 5\n",
       "\\begin{tabular}{r|lllll}\n",
       "  & Sepal.Length & Sepal.Width & Petal.Length & Petal.Width & Species\\\\\n",
       "  & <dbl> & <dbl> & <dbl> & <dbl> & <fct>\\\\\n",
       "\\hline\n",
       "\t1 & 5.1 & 3.5 & 1.4 & 0.2 & setosa\\\\\n",
       "\t2 & 4.9 & 3.0 & 1.4 & 0.2 & setosa\\\\\n",
       "\t3 & 4.7 & 3.2 & 1.3 & 0.2 & setosa\\\\\n",
       "\t4 & 4.6 & 3.1 & 1.5 & 0.2 & setosa\\\\\n",
       "\t5 & 5.0 & 3.6 & 1.4 & 0.2 & setosa\\\\\n",
       "\t6 & 5.4 & 3.9 & 1.7 & 0.4 & setosa\\\\\n",
       "\\end{tabular}\n"
      ],
      "text/markdown": [
       "\n",
       "A data.frame: 6 x 5\n",
       "\n",
       "| <!--/--> | Sepal.Length &lt;dbl&gt; | Sepal.Width &lt;dbl&gt; | Petal.Length &lt;dbl&gt; | Petal.Width &lt;dbl&gt; | Species &lt;fct&gt; |\n",
       "|---|---|---|---|---|---|\n",
       "| 1 | 5.1 | 3.5 | 1.4 | 0.2 | setosa |\n",
       "| 2 | 4.9 | 3.0 | 1.4 | 0.2 | setosa |\n",
       "| 3 | 4.7 | 3.2 | 1.3 | 0.2 | setosa |\n",
       "| 4 | 4.6 | 3.1 | 1.5 | 0.2 | setosa |\n",
       "| 5 | 5.0 | 3.6 | 1.4 | 0.2 | setosa |\n",
       "| 6 | 5.4 | 3.9 | 1.7 | 0.4 | setosa |\n",
       "\n"
      ],
      "text/plain": [
       "  Sepal.Length Sepal.Width Petal.Length Petal.Width Species\n",
       "1 5.1          3.5         1.4          0.2         setosa \n",
       "2 4.9          3.0         1.4          0.2         setosa \n",
       "3 4.7          3.2         1.3          0.2         setosa \n",
       "4 4.6          3.1         1.5          0.2         setosa \n",
       "5 5.0          3.6         1.4          0.2         setosa \n",
       "6 5.4          3.9         1.7          0.4         setosa "
      ]
     },
     "metadata": {},
     "output_type": "display_data"
    }
   ],
   "source": [
    "head(iris)\n",
    "# species를 타겟,  species에 있는것을 샘플.  나머지 열은 feature\n",
    "# iris는 지도학습. - 값이 지정되어있으니까 객관식 지도학습(classification)\n",
    "# 주관식은 regretion"
   ]
  },
  {
   "cell_type": "code",
   "execution_count": 2,
   "metadata": {
    "vscode": {
     "languageId": "r"
    }
   },
   "outputs": [
    {
     "data": {
      "text/html": [
       "<style>\n",
       ".list-inline {list-style: none; margin:0; padding: 0}\n",
       ".list-inline>li {display: inline-block}\n",
       ".list-inline>li:not(:last-child)::after {content: \"\\00b7\"; padding: 0 .5ex}\n",
       "</style>\n",
       "<ol class=list-inline><li>28</li><li>16</li><li>22</li><li>37</li><li>44</li><li>9</li><li>5</li><li>38</li><li>49</li><li>4</li><li>34</li><li>39</li><li>48</li><li>26</li><li>6</li><li>15</li><li>14</li><li>40</li><li>30</li><li>24</li><li>32</li><li>41</li><li>29</li><li>21</li><li>8</li><li>20</li><li>31</li><li>3</li><li>50</li><li>46</li><li>2</li><li>35</li><li>47</li><li>42</li><li>12</li><li>53</li><li>73</li><li>91</li><li>86</li><li>58</li><li>82</li><li>92</li><li>93</li><li>52</li><li>65</li><li>88</li><li>56</li><li>79</li><li>95</li><li>96</li><li>76</li><li>67</li><li>97</li><li>60</li><li>98</li><li>72</li><li>100</li><li>59</li><li>66</li><li>90</li><li>80</li><li>87</li><li>99</li><li>75</li><li>63</li><li>85</li><li>69</li><li>68</li><li>89</li><li>62</li><li>120</li><li>141</li><li>107</li><li>132</li><li>106</li><li>137</li><li>127</li><li>112</li><li>108</li><li>101</li><li>136</li><li>128</li><li>119</li><li>109</li><li>130</li><li>117</li><li>122</li><li>146</li><li>121</li><li>147</li><li>113</li><li>135</li><li>102</li><li>133</li><li>126</li><li>139</li><li>131</li><li>116</li><li>111</li><li>104</li><li>103</li><li>124</li><li>110</li><li>144</li><li>129</li></ol>\n"
      ],
      "text/latex": [
       "\\begin{enumerate*}\n",
       "\\item 28\n",
       "\\item 16\n",
       "\\item 22\n",
       "\\item 37\n",
       "\\item 44\n",
       "\\item 9\n",
       "\\item 5\n",
       "\\item 38\n",
       "\\item 49\n",
       "\\item 4\n",
       "\\item 34\n",
       "\\item 39\n",
       "\\item 48\n",
       "\\item 26\n",
       "\\item 6\n",
       "\\item 15\n",
       "\\item 14\n",
       "\\item 40\n",
       "\\item 30\n",
       "\\item 24\n",
       "\\item 32\n",
       "\\item 41\n",
       "\\item 29\n",
       "\\item 21\n",
       "\\item 8\n",
       "\\item 20\n",
       "\\item 31\n",
       "\\item 3\n",
       "\\item 50\n",
       "\\item 46\n",
       "\\item 2\n",
       "\\item 35\n",
       "\\item 47\n",
       "\\item 42\n",
       "\\item 12\n",
       "\\item 53\n",
       "\\item 73\n",
       "\\item 91\n",
       "\\item 86\n",
       "\\item 58\n",
       "\\item 82\n",
       "\\item 92\n",
       "\\item 93\n",
       "\\item 52\n",
       "\\item 65\n",
       "\\item 88\n",
       "\\item 56\n",
       "\\item 79\n",
       "\\item 95\n",
       "\\item 96\n",
       "\\item 76\n",
       "\\item 67\n",
       "\\item 97\n",
       "\\item 60\n",
       "\\item 98\n",
       "\\item 72\n",
       "\\item 100\n",
       "\\item 59\n",
       "\\item 66\n",
       "\\item 90\n",
       "\\item 80\n",
       "\\item 87\n",
       "\\item 99\n",
       "\\item 75\n",
       "\\item 63\n",
       "\\item 85\n",
       "\\item 69\n",
       "\\item 68\n",
       "\\item 89\n",
       "\\item 62\n",
       "\\item 120\n",
       "\\item 141\n",
       "\\item 107\n",
       "\\item 132\n",
       "\\item 106\n",
       "\\item 137\n",
       "\\item 127\n",
       "\\item 112\n",
       "\\item 108\n",
       "\\item 101\n",
       "\\item 136\n",
       "\\item 128\n",
       "\\item 119\n",
       "\\item 109\n",
       "\\item 130\n",
       "\\item 117\n",
       "\\item 122\n",
       "\\item 146\n",
       "\\item 121\n",
       "\\item 147\n",
       "\\item 113\n",
       "\\item 135\n",
       "\\item 102\n",
       "\\item 133\n",
       "\\item 126\n",
       "\\item 139\n",
       "\\item 131\n",
       "\\item 116\n",
       "\\item 111\n",
       "\\item 104\n",
       "\\item 103\n",
       "\\item 124\n",
       "\\item 110\n",
       "\\item 144\n",
       "\\item 129\n",
       "\\end{enumerate*}\n"
      ],
      "text/markdown": [
       "1. 28\n",
       "2. 16\n",
       "3. 22\n",
       "4. 37\n",
       "5. 44\n",
       "6. 9\n",
       "7. 5\n",
       "8. 38\n",
       "9. 49\n",
       "10. 4\n",
       "11. 34\n",
       "12. 39\n",
       "13. 48\n",
       "14. 26\n",
       "15. 6\n",
       "16. 15\n",
       "17. 14\n",
       "18. 40\n",
       "19. 30\n",
       "20. 24\n",
       "21. 32\n",
       "22. 41\n",
       "23. 29\n",
       "24. 21\n",
       "25. 8\n",
       "26. 20\n",
       "27. 31\n",
       "28. 3\n",
       "29. 50\n",
       "30. 46\n",
       "31. 2\n",
       "32. 35\n",
       "33. 47\n",
       "34. 42\n",
       "35. 12\n",
       "36. 53\n",
       "37. 73\n",
       "38. 91\n",
       "39. 86\n",
       "40. 58\n",
       "41. 82\n",
       "42. 92\n",
       "43. 93\n",
       "44. 52\n",
       "45. 65\n",
       "46. 88\n",
       "47. 56\n",
       "48. 79\n",
       "49. 95\n",
       "50. 96\n",
       "51. 76\n",
       "52. 67\n",
       "53. 97\n",
       "54. 60\n",
       "55. 98\n",
       "56. 72\n",
       "57. 100\n",
       "58. 59\n",
       "59. 66\n",
       "60. 90\n",
       "61. 80\n",
       "62. 87\n",
       "63. 99\n",
       "64. 75\n",
       "65. 63\n",
       "66. 85\n",
       "67. 69\n",
       "68. 68\n",
       "69. 89\n",
       "70. 62\n",
       "71. 120\n",
       "72. 141\n",
       "73. 107\n",
       "74. 132\n",
       "75. 106\n",
       "76. 137\n",
       "77. 127\n",
       "78. 112\n",
       "79. 108\n",
       "80. 101\n",
       "81. 136\n",
       "82. 128\n",
       "83. 119\n",
       "84. 109\n",
       "85. 130\n",
       "86. 117\n",
       "87. 122\n",
       "88. 146\n",
       "89. 121\n",
       "90. 147\n",
       "91. 113\n",
       "92. 135\n",
       "93. 102\n",
       "94. 133\n",
       "95. 126\n",
       "96. 139\n",
       "97. 131\n",
       "98. 116\n",
       "99. 111\n",
       "100. 104\n",
       "101. 103\n",
       "102. 124\n",
       "103. 110\n",
       "104. 144\n",
       "105. 129\n",
       "\n",
       "\n"
      ],
      "text/plain": [
       "  [1]  28  16  22  37  44   9   5  38  49   4  34  39  48  26   6  15  14  40\n",
       " [19]  30  24  32  41  29  21   8  20  31   3  50  46   2  35  47  42  12  53\n",
       " [37]  73  91  86  58  82  92  93  52  65  88  56  79  95  96  76  67  97  60\n",
       " [55]  98  72 100  59  66  90  80  87  99  75  63  85  69  68  89  62 120 141\n",
       " [73] 107 132 106 137 127 112 108 101 136 128 119 109 130 117 122 146 121 147\n",
       " [91] 113 135 102 133 126 139 131 116 111 104 103 124 110 144 129"
      ]
     },
     "metadata": {},
     "output_type": "display_data"
    }
   ],
   "source": [
    "# 학습용 데이터와 검증용 데이터 분리 7:3정도로분리\n",
    "set.seed(1234)\n",
    "samp <- c(sample(1:50,35),sample(51:100,35),sample(101:150,35))\n",
    "samp\n"
   ]
  },
  {
   "cell_type": "code",
   "execution_count": 4,
   "metadata": {
    "vscode": {
     "languageId": "r"
    }
   },
   "outputs": [],
   "source": [
    "# 학습용 데이터 셋\n",
    "data.tr <- iris[samp,]\n",
    "\n",
    "# 검증용 데이터 셋\n",
    "data.test <- iris[-samp,]"
   ]
  },
  {
   "cell_type": "code",
   "execution_count": 6,
   "metadata": {
    "vscode": {
     "languageId": "r"
    }
   },
   "outputs": [
    {
     "data": {
      "text/plain": [
       "  Sepal.Length    Sepal.Width     Petal.Length    Petal.Width         Species  \n",
       " Min.   :4.300   Min.   :2.200   Min.   :1.100   Min.   :0.10   setosa    :35  \n",
       " 1st Qu.:5.100   1st Qu.:2.800   1st Qu.:1.600   1st Qu.:0.30   versicolor:35  \n",
       " Median :5.800   Median :3.000   Median :4.300   Median :1.30   virginica :35  \n",
       " Mean   :5.847   Mean   :3.042   Mean   :3.749   Mean   :1.19                  \n",
       " 3rd Qu.:6.400   3rd Qu.:3.300   3rd Qu.:5.100   3rd Qu.:1.80                  \n",
       " Max.   :7.900   Max.   :4.400   Max.   :6.900   Max.   :2.50                  "
      ]
     },
     "metadata": {},
     "output_type": "display_data"
    },
    {
     "data": {
      "text/plain": [
       "  Sepal.Length    Sepal.Width     Petal.Length   Petal.Width          Species  \n",
       " Min.   :4.400   Min.   :2.000   Min.   :1.00   Min.   :0.100   setosa    :15  \n",
       " 1st Qu.:5.100   1st Qu.:2.800   1st Qu.:1.60   1st Qu.:0.300   versicolor:15  \n",
       " Median :5.800   Median :3.100   Median :4.70   Median :1.400   virginica :15  \n",
       " Mean   :5.836   Mean   :3.093   Mean   :3.78   Mean   :1.222                  \n",
       " 3rd Qu.:6.500   3rd Qu.:3.400   3rd Qu.:5.10   3rd Qu.:1.900                  \n",
       " Max.   :7.700   Max.   :4.100   Max.   :6.70   Max.   :2.500                  "
      ]
     },
     "metadata": {},
     "output_type": "display_data"
    }
   ],
   "source": [
    "summary(data.tr)\n",
    "summary(data.test)"
   ]
  },
  {
   "cell_type": "code",
   "execution_count": 10,
   "metadata": {
    "vscode": {
     "languageId": "r"
    }
   },
   "outputs": [
    {
     "data": {
      "image/png": "[encoded data removed]",
      "text/plain": [
       "plot without title"
      ]
     },
     "metadata": {
      "image/png": {
       "height": 420,
       "width": 420
      }
     },
     "output_type": "display_data"
    }
   ],
   "source": [
    "par(bg='white')\n",
    "plot(iris$Petal.Length,iris$Sepal.Length)  ##데이터끼리 몰려있으면 KNN가능. 근처 이웃으로 판단"
   ]
  },
  {
   "cell_type": "code",
   "execution_count": 13,
   "metadata": {
    "vscode": {
     "languageId": "r"
    }
   },
   "outputs": [],
   "source": [
    "# tranning data 준비\n",
    "data.training = subset(data.tr,select= -Species)\n",
    "data.training.label = data.tr$Species"
   ]
  },
  {
   "cell_type": "code",
   "execution_count": 14,
   "metadata": {
    "vscode": {
     "languageId": "r"
    }
   },
   "outputs": [],
   "source": [
    "# 문제 및 정답 만들기\n",
    "x <- subset(data.test,select = -Species)\n",
    "y <- data.test$Species"
   ]
  },
  {
   "cell_type": "markdown",
   "metadata": {},
   "source": [
    "# 학습시키기"
   ]
  },
  {
   "cell_type": "code",
   "execution_count": 15,
   "metadata": {
    "vscode": {
     "languageId": "r"
    }
   },
   "outputs": [],
   "source": [
    "# 모델 불러오기(KNN)\n",
    "library(class)"
   ]
  },
  {
   "cell_type": "code",
   "execution_count": 16,
   "metadata": {
    "vscode": {
     "languageId": "r"
    }
   },
   "outputs": [],
   "source": [
    "# k=3으로 (Hyper Parameter 조정)\n",
    "iris_knn <- knn(train = data.training,test=x,cl = data.training.label,k=3)"
   ]
  },
  {
   "cell_type": "code",
   "execution_count": 19,
   "metadata": {
    "vscode": {
     "languageId": "r"
    }
   },
   "outputs": [
    {
     "data": {
      "text/html": [
       "0.955555555555556"
      ],
      "text/latex": [
       "0.955555555555556"
      ],
      "text/markdown": [
       "0.955555555555556"
      ],
      "text/plain": [
       "[1] 0.9555556"
      ]
     },
     "metadata": {},
     "output_type": "display_data"
    }
   ],
   "source": [
    "# 예측값과 정답값의 비교\n",
    "mean(y == iris_knn) #95점 95%맞춘다."
   ]
  },
  {
   "cell_type": "code",
   "execution_count": 20,
   "metadata": {
    "vscode": {
     "languageId": "r"
    }
   },
   "outputs": [
    {
     "data": {
      "text/plain": [
       "            iris_knn\n",
       "y            setosa versicolor virginica\n",
       "  setosa         15          0         0\n",
       "  versicolor      0         13         2\n",
       "  virginica       0          0        15"
      ]
     },
     "metadata": {},
     "output_type": "display_data"
    }
   ],
   "source": [
    "#정오표 확인\n",
    "table(y,iris_knn)"
   ]
  },
  {
   "cell_type": "code",
   "execution_count": null,
   "metadata": {
    "vscode": {
     "languageId": "r"
    }
   },
   "outputs": [],
   "source": []
  }
 ],
 "metadata": {
  "kernelspec": {
   "display_name": "R",
   "language": "R",
   "name": "r"
  },
  "language_info": {
   "codemirror_mode": "r",
   "file_extension": ".r",
   "mimetype": "text/x-r-source",
   "name": "R",
   "pygments_lexer": "r",
   "version": "4.3.3"
  }
 },
 "nbformat": 4,
 "nbformat_minor": 2
}
