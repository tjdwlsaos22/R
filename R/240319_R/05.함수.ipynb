{
 "cells": [
  {
   "cell_type": "markdown",
   "metadata": {},
   "source": [
    "# 함수(function)\n",
    "- 함수는 코드의 집합이다."
   ]
  },
  {
   "cell_type": "code",
   "execution_count": 8,
   "metadata": {
    "vscode": {
     "languageId": "r"
    }
   },
   "outputs": [
    {
     "name": "stderr",
     "output_type": "stream",
     "text": [
      "Your code contains a unicode char which cannot be displayed in your\n",
      "current locale and R will silently convert it to an escaped form when the\n",
      "R kernel executes this code. This can lead to subtle errors if you use\n",
      "such chars to do comparisons. For more information, please see\n",
      "https://github.com/IRkernel/repr/wiki/Problems-with-unicode-on-windows"
     ]
    },
    {
     "data": {
      "text/html": [
       "10"
      ],
      "text/latex": [
       "10"
      ],
      "text/markdown": [
       "10"
      ],
      "text/plain": [
       "[1] 10"
      ]
     },
     "metadata": {},
     "output_type": "display_data"
    },
    {
     "data": {
      "text/html": [
       "20"
      ],
      "text/latex": [
       "20"
      ],
      "text/markdown": [
       "20"
      ],
      "text/plain": [
       "[1] 20"
      ]
     },
     "metadata": {},
     "output_type": "display_data"
    },
    {
     "data": {
      "text/html": [
       "15"
      ],
      "text/latex": [
       "15"
      ],
      "text/markdown": [
       "15"
      ],
      "text/plain": [
       "[1] 15"
      ]
     },
     "metadata": {},
     "output_type": "display_data"
    },
    {
     "data": {
      "text/html": [
       "15"
      ],
      "text/latex": [
       "15"
      ],
      "text/markdown": [
       "15"
      ],
      "text/plain": [
       "[1] 15"
      ]
     },
     "metadata": {},
     "output_type": "display_data"
    },
    {
     "data": {
      "text/plain": [
       "   Min. 1st Qu.  Median    Mean 3rd Qu.    Max. \n",
       "   10.0    12.5    15.0    15.0    17.5    20.0 "
      ]
     },
     "metadata": {},
     "output_type": "display_data"
    },
    {
     "data": {
      "text/html": [
       "165"
      ],
      "text/latex": [
       "165"
      ],
      "text/markdown": [
       "165"
      ],
      "text/plain": [
       "[1] 165"
      ]
     },
     "metadata": {},
     "output_type": "display_data"
    },
    {
     "data": {
      "text/html": [
       "3.3166247903554"
      ],
      "text/latex": [
       "3.3166247903554"
      ],
      "text/markdown": [
       "3.3166247903554"
      ],
      "text/plain": [
       "[1] 3.316625"
      ]
     },
     "metadata": {},
     "output_type": "display_data"
    },
    {
     "data": {
      "text/html": [
       "<ol class=list-inline>\n",
       "\t<li>3.16227766016838</li>\n",
       "\t<li>3.3166247903554</li>\n",
       "\t<li>3.46410161513775</li>\n",
       "\t<li>3.60555127546399</li>\n",
       "\t<li>3.74165738677394</li>\n",
       "\t<li>3.87298334620742</li>\n",
       "\t<li>4</li>\n",
       "\t<li>4.12310562561766</li>\n",
       "\t<li>4.24264068711928</li>\n",
       "\t<li>4.35889894354067</li>\n",
       "\t<li>4.47213595499958</li>\n",
       "</ol>\n"
      ],
      "text/latex": [
       "\\begin{enumerate*}\n",
       "\\item 3.16227766016838\n",
       "\\item 3.3166247903554\n",
       "\\item 3.46410161513775\n",
       "\\item 3.60555127546399\n",
       "\\item 3.74165738677394\n",
       "\\item 3.87298334620742\n",
       "\\item 4\n",
       "\\item 4.12310562561766\n",
       "\\item 4.24264068711928\n",
       "\\item 4.35889894354067\n",
       "\\item 4.47213595499958\n",
       "\\end{enumerate*}\n"
      ],
      "text/markdown": [
       "1. 3.16227766016838\n",
       "2. 3.3166247903554\n",
       "3. 3.46410161513775\n",
       "4. 3.60555127546399\n",
       "5. 3.74165738677394\n",
       "6. 3.87298334620742\n",
       "7. 4\n",
       "8. 4.12310562561766\n",
       "9. 4.24264068711928\n",
       "10. 4.35889894354067\n",
       "11. 4.47213595499958\n",
       "\n",
       "\n"
      ],
      "text/plain": [
       " [1] 3.162278 3.316625 3.464102 3.605551 3.741657 3.872983 4.000000 4.123106\n",
       " [9] 4.242641 4.358899 4.472136"
      ]
     },
     "metadata": {},
     "output_type": "display_data"
    },
    {
     "data": {
      "text/plain": [
       "vec\n",
       "10 11 12 13 14 15 16 17 18 19 20 \n",
       " 1  1  1  1  1  1  1  1  1  1  1 "
      ]
     },
     "metadata": {},
     "output_type": "display_data"
    },
    {
     "data": {
      "text/html": [
       "<ol class=list-inline>\n",
       "\t<li>10</li>\n",
       "\t<li>20</li>\n",
       "</ol>\n"
      ],
      "text/latex": [
       "\\begin{enumerate*}\n",
       "\\item 10\n",
       "\\item 20\n",
       "\\end{enumerate*}\n"
      ],
      "text/markdown": [
       "1. 10\n",
       "2. 20\n",
       "\n",
       "\n"
      ],
      "text/plain": [
       "[1] 10 20"
      ]
     },
     "metadata": {},
     "output_type": "display_data"
    }
   ],
   "source": [
    "# 주요 내장 함수\n",
    "vec <- 10:20\n",
    "min(vec)\n",
    "max(vec)\n",
    "mean(vec)\n",
    "median(vec)\n",
    "summary(vec)\n",
    "sum(vec)\n",
    "sd(vec)\n",
    "sqrt(vec)\n",
    "table(vec) #빈도수\n",
    "range(vec)\n"
   ]
  },
  {
   "cell_type": "markdown",
   "metadata": {},
   "source": [
    "## 기술 통계량을 계산하는 함수 정의"
   ]
  },
  {
   "cell_type": "code",
   "execution_count": 21,
   "metadata": {
    "vscode": {
     "languageId": "r"
    }
   },
   "outputs": [
    {
     "name": "stdout",
     "output_type": "stream",
     "text": [
      "'data.frame':\t402 obs. of  5 variables:\n",
      " $ A: int  2 1 2 3 3 4 3 4 4 4 ...\n",
      " $ B: int  4 2 3 5 2 3 4 2 4 2 ...\n",
      " $ C: int  4 2 4 5 4 3 4 4 5 4 ...\n",
      " $ D: int  2 2 3 3 4 4 2 4 3 2 ...\n",
      " $ E: int  2 2 3 3 4 2 2 4 4 3 ...\n"
     ]
    },
    {
     "data": {
      "text/plain": [
       "   Min. 1st Qu.  Median    Mean 3rd Qu.    Max. \n",
       "  1.000   2.000   3.000   3.032   4.000   5.000 "
      ]
     },
     "metadata": {},
     "output_type": "display_data"
    },
    {
     "data": {
      "text/html": [
       "1"
      ],
      "text/latex": [
       "1"
      ],
      "text/markdown": [
       "1"
      ],
      "text/plain": [
       "[1] 1"
      ]
     },
     "metadata": {},
     "output_type": "display_data"
    },
    {
     "data": {
      "text/html": [
       "5"
      ],
      "text/latex": [
       "5"
      ],
      "text/markdown": [
       "5"
      ],
      "text/plain": [
       "[1] 5"
      ]
     },
     "metadata": {},
     "output_type": "display_data"
    },
    {
     "data": {
      "text/html": [
       "3"
      ],
      "text/latex": [
       "3"
      ],
      "text/markdown": [
       "3"
      ],
      "text/plain": [
       "[1] 3"
      ]
     },
     "metadata": {},
     "output_type": "display_data"
    },
    {
     "data": {
      "text/html": [
       "3.0318407960199"
      ],
      "text/latex": [
       "3.0318407960199"
      ],
      "text/markdown": [
       "3.0318407960199"
      ],
      "text/plain": [
       "[1] 3.031841"
      ]
     },
     "metadata": {},
     "output_type": "display_data"
    },
    {
     "data": {
      "text/html": [
       "1.01799688851917"
      ],
      "text/latex": [
       "1.01799688851917"
      ],
      "text/markdown": [
       "1.01799688851917"
      ],
      "text/plain": [
       "[1] 1.017997"
      ]
     },
     "metadata": {},
     "output_type": "display_data"
    }
   ],
   "source": [
    "test = read.csv(\"./Data/test.csv\")\n",
    "\n",
    "str(test)\n",
    "test <- unlist(test)\n",
    "summary(test)\n",
    "min(test)\n",
    "max(test)\n",
    "median(test)\n",
    "mean(test)\n",
    "sd(test)"
   ]
  },
  {
   "cell_type": "code",
   "execution_count": 22,
   "metadata": {
    "vscode": {
     "languageId": "r"
    }
   },
   "outputs": [
    {
     "ename": "ERROR",
     "evalue": "Error in test$A: $ operator is invalid for atomic vectors\n",
     "output_type": "error",
     "traceback": [
      "Error in test$A: $ operator is invalid for atomic vectors\nTraceback:\n"
     ]
    }
   ],
   "source": [
    "min(test$A)"
   ]
  },
  {
   "cell_type": "code",
   "execution_count": null,
   "metadata": {
    "vscode": {
     "languageId": "r"
    }
   },
   "outputs": [],
   "source": []
  }
 ],
 "metadata": {
  "kernelspec": {
   "display_name": "R",
   "language": "R",
   "name": "ir"
  },
  "language_info": {
   "codemirror_mode": "r",
   "file_extension": ".r",
   "mimetype": "text/x-r-source",
   "name": "R",
   "pygments_lexer": "r",
   "version": "3.6.1"
  }
 },
 "nbformat": 4,
 "nbformat_minor": 2
}
