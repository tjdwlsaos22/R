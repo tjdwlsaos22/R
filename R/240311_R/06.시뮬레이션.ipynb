{
 "cells": [
  {
   "cell_type": "markdown",
   "metadata": {},
   "source": [
    "# 시뮬레이션\n",
    "### 동전의 앞면 뒷면 시뮬레이션"
   ]
  },
  {
   "cell_type": "code",
   "execution_count": 3,
   "metadata": {
    "vscode": {
     "languageId": "r"
    }
   },
   "outputs": [
    {
     "name": "stderr",
     "output_type": "stream",
     "text": [
      "Your code contains a unicode char which cannot be displayed in your\n",
      "current locale and R will silently convert it to an escaped form when the\n",
      "R kernel executes this code. This can lead to subtle errors if you use\n",
      "such chars to do comparisons. For more information, please see\n",
      "https://github.com/IRkernel/repr/wiki/Problems-with-unicode-on-windows"
     ]
    },
    {
     "name": "stdout",
     "output_type": "stream",
     "text": [
      "front front front behind front behind behind front behind behind \n"
     ]
    }
   ],
   "source": [
    "# 동전 앞면과 뒷면을 나타내는 벡터\n",
    "coin <- c(\"front\", \"behind\")\n",
    "\n",
    "# 시뮬레이션 횟수 설정\n",
    "simulations <- 10\n",
    "\n",
    "# 동전 던지기 시뮬레이션\n",
    "results <- sample(coin, simulations, replace = TRUE)\n",
    "\n",
    "# 결과 출력\n",
    "cat(results,\"\\n\")"
   ]
  },
  {
   "cell_type": "code",
   "execution_count": 15,
   "metadata": {
    "vscode": {
     "languageId": "r"
    }
   },
   "outputs": [
    {
     "name": "stderr",
     "output_type": "stream",
     "text": [
      "Your code contains a unicode char which cannot be displayed in your\n",
      "current locale and R will silently convert it to an escaped form when the\n",
      "R kernel executes this code. This can lead to subtle errors if you use\n",
      "such chars to do comparisons. For more information, please see\n",
      "https://github.com/IRkernel/repr/wiki/Problems-with-unicode-on-windows"
     ]
    },
    {
     "name": "stdout",
     "output_type": "stream",
     "text": [
      "0"
     ]
    }
   ],
   "source": [
    "x <- runif(1)\n",
    "if(x <= 1/2){\n",
    "    result =0 #앞면\n",
    "}else{\n",
    "    result =1\n",
    "}\n",
    "cat(result)\n"
   ]
  },
  {
   "cell_type": "code",
   "execution_count": 24,
   "metadata": {
    "vscode": {
     "languageId": "r"
    }
   },
   "outputs": [
    {
     "name": "stderr",
     "output_type": "stream",
     "text": [
      "Your code contains a unicode char which cannot be displayed in your\n",
      "current locale and R will silently convert it to an escaped form when the\n",
      "R kernel executes this code. This can lead to subtle errors if you use\n",
      "such chars to do comparisons. For more information, please see\n",
      "https://github.com/IRkernel/repr/wiki/Problems-with-unicode-on-windows"
     ]
    },
    {
     "name": "stdout",
     "output_type": "stream",
     "text": [
      "<U+B4B7><U+BA74> : 5 \n",
      "<U+C55E><U+BA74> : 5 \n",
      "-------------------\n"
     ]
    }
   ],
   "source": [
    "coin <- function(n){\n",
    "    count1 <-  0 #앞면\n",
    "    count2 <-  0 #뒷면\n",
    "\n",
    "    for(i in 1:n)\n",
    "{\n",
    "    if(runif(1) <= 1/2){\n",
    "        count1 =count1+1\n",
    "    }else{\n",
    "        count2=count2+1\n",
    "    }}\n",
    "    cat(\"뒷면 :\",count2,\"\\n\")\n",
    "    cat(\"앞면 :\",count1,\"\\n\")\n",
    "    cat(\"-------------------\\n\")\n",
    "\n",
    "}\n",
    "coin(10)\n",
    "coin(1000000000)"
   ]
  },
  {
   "cell_type": "code",
   "execution_count": 3,
   "metadata": {
    "vscode": {
     "languageId": "r"
    }
   },
   "outputs": [
    {
     "name": "stderr",
     "output_type": "stream",
     "text": [
      "Your code contains a unicode char which cannot be displayed in your\n",
      "current locale and R will silently convert it to an escaped form when the\n",
      "R kernel executes this code. This can lead to subtle errors if you use\n",
      "such chars to do comparisons. For more information, please see\n",
      "https://github.com/IRkernel/repr/wiki/Problems-with-unicode-on-windows"
     ]
    },
    {
     "name": "stdout",
     "output_type": "stream",
     "text": [
      "<U+AC00><U+C704> : 2 \n",
      "<U+BC14><U+C704> : 7 \n",
      "<U+BCF4> : 1 \n",
      "-------------------\n",
      "<U+AC00><U+C704> : 31 \n",
      "<U+BC14><U+C704> : 37 \n",
      "<U+BCF4> : 32 \n",
      "-------------------\n",
      "<U+AC00><U+C704> : 35 \n",
      "<U+BC14><U+C704> : 26 \n",
      "<U+BCF4> : 39 \n",
      "-------------------\n"
     ]
    }
   ],
   "source": [
    "rock <- function(n){\n",
    "    count1 <-  0 #가위\n",
    "    count2 <-  0 #바위\n",
    "    count3 <-  0 #보\n",
    "\n",
    "    for(i in 1:n)\n",
    "{   a <- runif(1)\n",
    "    if(a <= 1/3){\n",
    "        count1 =count1+1\n",
    "    }else if(a <= 2/3)\n",
    "    {\n",
    "        count2=count2+1\n",
    "    }else{\n",
    "        count3=count3+1\n",
    "    }\n",
    "    \n",
    "    }\n",
    "    cat(\"가위 :\",count1,\"\\n\")\n",
    "    cat(\"바위 :\",count2,\"\\n\")\n",
    "    cat(\"보 :\",count3,\"\\n\")\n",
    "    cat(\"-------------------\\n\")\n",
    "\n",
    "}\n",
    "\n",
    "rock(10)\n",
    "rock(100)\n",
    "\n",
    "\n",
    "rock1 <- function(n){\n",
    "    count1 <-  0 #가위\n",
    "    count2 <-  0 #바위\n",
    "    count3 <-  0 #보\n",
    "\n",
    "    for(i in 1:n)\n",
    "{   x <- trunc(runif(1)*3)+1\n",
    "    if(x==1) count1 = count1+1\n",
    "    if(x==2) count2 = count2+1\n",
    "    if(x==3) count3 = count3+1\n",
    "\n",
    "    \n",
    "    }\n",
    "    cat(\"가위 :\",count1,\"\\n\")\n",
    "    cat(\"바위 :\",count2,\"\\n\")\n",
    "    cat(\"보 :\",count3,\"\\n\")\n",
    "    cat(\"-------------------\\n\")\n",
    "\n",
    "}\n",
    "rock1(100)\n"
   ]
  },
  {
   "cell_type": "code",
   "execution_count": 9,
   "metadata": {
    "vscode": {
     "languageId": "r"
    }
   },
   "outputs": [
    {
     "name": "stdout",
     "output_type": "stream",
     "text": [
      "1 : 1 \n",
      "2 : 5 \n",
      "3 : 0 \n",
      "4 : 1 \n",
      "5 : 2 \n",
      "6 : 1 \n",
      "-------------------\n"
     ]
    }
   ],
   "source": [
    "dice <- function(n){\n",
    "    counts <- integer(6)\n",
    "\n",
    "    for(i in 1:n)\n",
    "{   x <- trunc(runif(1)*6)+1\n",
    "    counts[x] <- counts[x]+1\n",
    "\n",
    "    \n",
    "    }\n",
    "    i<-1\n",
    "    repeat{\n",
    "    cat(i,\":\",counts[i],\"\\n\")\n",
    "        i<-i+1\n",
    "        if(i>6){\n",
    "        break}\n",
    "        }\n",
    "    cat(\"-------------------\\n\")\n",
    "    \n",
    "}\n",
    "dice(10)\n"
   ]
  },
  {
   "cell_type": "code",
   "execution_count": 14,
   "metadata": {
    "vscode": {
     "languageId": "r"
    }
   },
   "outputs": [
    {
     "name": "stdout",
     "output_type": "stream",
     "text": [
      "Throw : 10000 \n",
      "No 1 -> 1662 \n",
      "No 2 -> 1660 \n",
      "No 3 -> 1710 \n",
      "No 4 -> 1670 \n",
      "No 5 -> 1685 \n",
      "No 6 -> 1613 \n",
      "------------------\n"
     ]
    }
   ],
   "source": [
    "options(scipen = 100)\n",
    "\n",
    "dice1 <- function(n){\n",
    "    counts <- rep(0,6)\n",
    "    cat(\"Throw :\",n,\"\\n\")\n",
    "\n",
    "    for(i in 1:n)\n",
    "{   x <- trunc(runif(1)*6)+1\n",
    "    counts[x] <- counts[x]+1\n",
    "\n",
    "    \n",
    "    }\n",
    "    for(i in 1:length(counts)){\n",
    "        cat(\"No\",i,\"->\",counts[i],\"\\n\")\n",
    "    }\n",
    "    cat(\"------------------\\n\")\n",
    "    \n",
    "}\n",
    "dice1(10000)"
   ]
  },
  {
   "cell_type": "code",
   "execution_count": null,
   "metadata": {
    "vscode": {
     "languageId": "r"
    }
   },
   "outputs": [],
   "source": []
  }
 ],
 "metadata": {
  "kernelspec": {
   "display_name": "R",
   "language": "R",
   "name": "ir"
  },
  "language_info": {
   "codemirror_mode": "r",
   "file_extension": ".r",
   "mimetype": "text/x-r-source",
   "name": "R",
   "pygments_lexer": "r",
   "version": "3.6.1"
  }
 },
 "nbformat": 4,
 "nbformat_minor": 2
}
