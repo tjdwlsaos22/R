{
 "cells": [
  {
   "cell_type": "code",
   "execution_count": 4,
   "metadata": {
    "vscode": {
     "languageId": "r"
    }
   },
   "outputs": [
    {
     "data": {
      "text/html": [
       "''"
      ],
      "text/latex": [
       "''"
      ],
      "text/markdown": [
       "''"
      ],
      "text/plain": [
       "[1] \"\""
      ]
     },
     "metadata": {},
     "output_type": "display_data"
    }
   ],
   "source": [
    "options(warn = -1)\n",
    "options(repr.plot.width=15, repr.plot.height=9) \n",
    "Sys.setlocale(category = \"LC_ALL\", locale = \"ko_KR.UTF-8\")"
   ]
  },
  {
   "cell_type": "code",
   "execution_count": 5,
   "metadata": {
    "vscode": {
     "languageId": "r"
    }
   },
   "outputs": [
    {
     "name": "stderr",
     "output_type": "stream",
     "text": [
      "Your code contains a unicode char which cannot be displayed in your\n",
      "current locale and R will silently convert it to an escaped form when the\n",
      "R kernel executes this code. This can lead to subtle errors if you use\n",
      "such chars to do comparisons. For more information, please see\n",
      "https://github.com/IRkernel/repr/wiki/Problems-with-unicode-on-windows"
     ]
    },
    {
     "name": "stdout",
     "output_type": "stream",
     "text": [
      "[1] \"y<U+AC00> <U+B354> <U+D07D><U+B2C8><U+B2E4>\"\n"
     ]
    }
   ],
   "source": [
    "x<-10\n",
    "y<-runif(1)*100\n",
    "\n",
    "if(x>y){\n",
    "    print(\"x가 더 큽니다\")\n",
    "}else{\n",
    "    print(\"y가 더 큽니다\")\n",
    "}"
   ]
  },
  {
   "cell_type": "code",
   "execution_count": 7,
   "metadata": {
    "vscode": {
     "languageId": "r"
    }
   },
   "outputs": [
    {
     "name": "stderr",
     "output_type": "stream",
     "text": [
      "Your code contains a unicode char which cannot be displayed in your\n",
      "current locale and R will silently convert it to an escaped form when the\n",
      "R kernel executes this code. This can lead to subtle errors if you use\n",
      "such chars to do comparisons. For more information, please see\n",
      "https://github.com/IRkernel/repr/wiki/Problems-with-unicode-on-windows"
     ]
    },
    {
     "data": {
      "text/html": [
       "<ol class=list-inline>\n",
       "\t<li>'1 &lt;U+B294&gt; &lt;U+D640&gt;&lt;U+C218&gt;'</li>\n",
       "\t<li>'2 &lt;U+B294&gt; &lt;U+C9DD&gt;&lt;U+C218&gt;'</li>\n",
       "\t<li>'3 &lt;U+B294&gt; &lt;U+D640&gt;&lt;U+C218&gt;'</li>\n",
       "</ol>\n"
      ],
      "text/latex": [
       "\\begin{enumerate*}\n",
       "\\item '1 <U+B294> <U+D640><U+C218>'\n",
       "\\item '2 <U+B294> <U+C9DD><U+C218>'\n",
       "\\item '3 <U+B294> <U+D640><U+C218>'\n",
       "\\end{enumerate*}\n"
      ],
      "text/markdown": [
       "1. '1 &lt;U+B294&gt; &lt;U+D640&gt;&lt;U+C218&gt;'\n",
       "2. '2 &lt;U+B294&gt; &lt;U+C9DD&gt;&lt;U+C218&gt;'\n",
       "3. '3 &lt;U+B294&gt; &lt;U+D640&gt;&lt;U+C218&gt;'\n",
       "\n",
       "\n"
      ],
      "text/plain": [
       "[1] \"1 <U+B294> <U+D640><U+C218>\" \"2 <U+B294> <U+C9DD><U+C218>\"\n",
       "[3] \"3 <U+B294> <U+D640><U+C218>\""
      ]
     },
     "metadata": {},
     "output_type": "display_data"
    }
   ],
   "source": [
    "#홀수 짝수 구분\n",
    "a<-c(1,2,3)\n",
    "ifelse(a %% 2==0,paste(a,\"는 짝수\"),paste(a,\"는 홀수\"))"
   ]
  },
  {
   "cell_type": "code",
   "execution_count": null,
   "metadata": {
    "vscode": {
     "languageId": "r"
    }
   },
   "outputs": [],
   "source": []
  }
 ],
 "metadata": {
  "kernelspec": {
   "display_name": "R",
   "language": "R",
   "name": "ir"
  },
  "language_info": {
   "codemirror_mode": "r",
   "file_extension": ".r",
   "mimetype": "text/x-r-source",
   "name": "R",
   "pygments_lexer": "r",
   "version": "3.6.1"
  }
 },
 "nbformat": 4,
 "nbformat_minor": 2
}
